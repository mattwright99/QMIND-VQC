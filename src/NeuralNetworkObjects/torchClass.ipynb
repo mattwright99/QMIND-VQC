{
 "cells": [
  {
   "cell_type": "code",
   "execution_count": 6,
   "metadata": {},
   "outputs": [],
   "source": [
    "import numpy as np\n",
    "import matplotlib.pyplot as plt\n",
    "%matplotlib inline\n",
    "\n",
    "import torch\n",
    "from torch.autograd import Function\n",
    "from torchvision import datasets, transforms\n",
    "import torch.optim as optim\n",
    "import torch.nn as nn\n",
    "import torch.nn.functional as F\n",
    "\n",
    "from sklearn import datasets\n",
    "\n",
    "# from torchsummary import summary\n",
    "\n",
    "import qiskit\n",
    "from qiskit.visualization import *\n",
    "from qiskit.circuit.random import random_circuit\n",
    "\n",
    "from itertools import combinations"
   ]
  },
  {
   "cell_type": "markdown",
   "metadata": {},
   "source": [
    "### Setting Hyperparameters"
   ]
  },
  {
   "cell_type": "code",
   "execution_count": 19,
   "metadata": {},
   "outputs": [],
   "source": [
    "BATCH_SIZE = 256\n",
    "EPOCHS = 10\n",
    "LEARNING_RATE = 0.001"
   ]
  },
  {
   "cell_type": "markdown",
   "metadata": {},
   "source": [
    "### Data Loading"
   ]
  },
  {
   "cell_type": "code",
   "execution_count": 17,
   "metadata": {},
   "outputs": [],
   "source": [
    "digits = datasets.load_digits()\n",
    "\n",
    "X = digits['data']\n",
    "Y = digits['target']"
   ]
  },
  {
   "cell_type": "code",
   "execution_count": 18,
   "metadata": {},
   "outputs": [
    {
     "name": "stdout",
     "output_type": "stream",
     "text": [
      "(1797, 64)\n",
      "(1797,)\n"
     ]
    }
   ],
   "source": [
    "print(X.shape)\n",
    "print(Y.shape)"
   ]
  },
  {
   "cell_type": "markdown",
   "metadata": {},
   "source": [
    "### Create the quantum circuit"
   ]
  },
  {
   "cell_type": "code",
   "execution_count": null,
   "metadata": {},
   "outputs": [],
   "source": [
    "class QuanvCircuit:\n",
    "    \"\"\" \n",
    "    This class defines filter circuit of Quanvolution layer\n",
    "    \"\"\"\n",
    "    \n",
    "    def __init__(self, kernel_size, backend, shots, threshold):\n",
    "        # --- Circuit definition start ---\n",
    "        self.n_qubits = kernel_size ** 2\n",
    "        self._circuit = qiskit.QuantumCircuit(self.n_qubits)\n",
    "        self.theta = [qiskit.circuit.Parameter('theta{}'.format(i)) for i in range(self.n_qubits)]\n",
    "\n",
    "        for i in range(self.n_qubits):\n",
    "            self._circuit.rx(self.theta[i], i)\n",
    "        \n",
    "        self._circuit.barrier()\n",
    "        self._circuit += random_circuit(self.n_qubits, 2)\n",
    "        self._circuit.measure_all()\n",
    "        # ---- Circuit definition end ----\n",
    "\n",
    "        self.backend   = backend\n",
    "        self.shots     = shots\n",
    "        self.threshold = threshold\n",
    "\n",
    "    def run(self, data):\n",
    "        # data shape: tensor (1, 5, 5)\n",
    "        # val > self.threshold  : |1> - rx(pi)\n",
    "        # val <= self.threshold : |0> - rx(0)\n",
    "\n",
    "        # reshape input data\n",
    "        # [1, kernel_size, kernel_size] -> [1, self.n_qubits]\n",
    "        data = torch.reshape(data, (1, self.n_qubits))\n",
    "\n",
    "        # encoding data to parameters\n",
    "        thetas = []\n",
    "        for dat in data:\n",
    "            theta = []\n",
    "            for val in dat:\n",
    "                if val > self.threshold:\n",
    "                    theta.append(np.pi)\n",
    "                else:\n",
    "                    theta.append(0)\n",
    "            thetas.append(theta)\n",
    "        \n",
    "        param_dict = dict()\n",
    "        for theta in thetas:\n",
    "            for i in range(self.n_qubits):\n",
    "                param_dict[self.theta[i]] = theta[i]\n",
    "        param_binds = [param_dict]\n",
    "\n",
    "        # execute random quantum circuit\n",
    "        job = qiskit.execute(self._circuit, \n",
    "                             self.backend, \n",
    "                             shots = self.shots, \n",
    "                             parameter_binds = param_binds)\n",
    "        result = job.result().get_counts(self._circuit)\n",
    "\n",
    "        # decoding the result\n",
    "        counts = 0\n",
    "        for key, val in result.items():\n",
    "            cnt = sum([int(char) for char in key])\n",
    "            counts += cnt * val\n",
    "\n",
    "        # Compute probabilities for each state\n",
    "        probabilities = counts / (self.shots * self.n_qubits)\n",
    "        # probabilities = counts / self.shots\n",
    "        \n",
    "        return probabilities"
   ]
  },
  {
   "cell_type": "markdown",
   "metadata": {},
   "source": [
    "### Create the Quanvolution Class with PyTorch"
   ]
  },
  {
   "cell_type": "code",
   "execution_count": null,
   "metadata": {},
   "outputs": [],
   "source": [
    "class QuanvFunction(Function):\n",
    "    \"\"\" Quanv function definition \"\"\"\n",
    "    \n",
    "    @staticmethod\n",
    "    def forward(ctx, inputs, in_channels, out_channels, kernel_size, quantum_circuits, shift):\n",
    "        #forward pass of the quanvolutional function\n",
    "        return 0\n",
    "        \n",
    "    @staticmethod\n",
    "    def backward(ctx, grad_output):\n",
    "        #backwards pass of the quanvolutional function\n",
    "        return 0\n",
    "\n",
    "\n",
    "class Quanv(nn.Module):\n",
    "    \"\"\" Quanvolution(Quantum convolution) layer definition \"\"\"\n",
    "    \n",
    "    def __init__(self, in_channels, out_channels, kernel_size, \n",
    "                 backend=qiskit.Aer.get_backend('qasm_simulator'), \n",
    "                 shots=100, shift=np.pi/2):\n",
    "        super(Quanv, self).__init__()\n",
    "        self.quantum_circuits = [QuanvCircuit(kernel_size=kernel_size, \n",
    "                                              backend=backend, shots=shots, threshold=127) \n",
    "                                 for i in range(out_channels)]\n",
    "        self.in_channels  = in_channels\n",
    "        self.out_channels = out_channels\n",
    "        self.kernel_size  = kernel_size\n",
    "        self.shift        = shift\n",
    "        \n",
    "    def forward(self, inputs):\n",
    "        return QuanvFunction.apply(inputs, self.in_channels, self.out_channels, self.kernel_size,\n",
    "                                   self.quantum_circuits, self.shift)"
   ]
  },
  {
   "cell_type": "markdown",
   "metadata": {},
   "source": [
    "### Define the Network Class"
   ]
  },
  {
   "cell_type": "code",
   "execution_count": null,
   "metadata": {},
   "outputs": [],
   "source": [
    "class Net(nn.Module):\n",
    "    def __init__(self):\n",
    "        super(Net, self).__init__()\n",
    "        self.quanv = Quanv(in_channels=1, out_channels=6, kernel_size=5)\n",
    "        self.conv = nn.Conv2d(6, 16, kernel_size=5)\n",
    "        self.dropout = nn.Dropout2d()\n",
    "        self.fc1 = nn.Linear(256, 64)\n",
    "        self.fc2 = nn.Linear(64, 10)\n",
    "\n",
    "    def forward(self, x):\n",
    "        #this is where we build our entire network\n",
    "        #whatever layers of quanvolution, pooling,\n",
    "        #convolution, dropout, flattening,\n",
    "        #fully connectecd layers, go here\n",
    "        return 0"
   ]
  },
  {
   "cell_type": "markdown",
   "metadata": {},
   "source": [
    "### Build and Train the Model"
   ]
  },
  {
   "cell_type": "code",
   "execution_count": null,
   "metadata": {},
   "outputs": [],
   "source": [
    "model = Net()\n",
    "optimizer = optim.Adam(model.parameters(), lr=LEARNING_RATE)\n",
    "loss_func = nn.CrossEntropyLoss()\n",
    "\n",
    "epochs = 20\n",
    "loss_list = []\n",
    "\n",
    "model.train()\n",
    "for epoch in range(epochs):\n",
    "    total_loss = []\n",
    "    for batch_idx, (data, target) in enumerate(train_loader):\n",
    "        optimizer.zero_grad()\n",
    "\n",
    "        # Forward pass\n",
    "        output = model(data)\n",
    "\n",
    "        # Calculating loss\n",
    "        loss = loss_func(output, target)\n",
    "        \n",
    "        # Backward pass\n",
    "        loss.backward()\n",
    "        \n",
    "        # Optimize the weights\n",
    "        optimizer.step()\n",
    "        \n",
    "        total_loss.append(loss.item())\n",
    "    loss_list.append(sum(total_loss)/len(total_loss))\n",
    "    print('Training [{:.0f}%]\\tLoss: {:.4f}'.format(\n",
    "        100. * (epoch + 1) / epochs, loss_list[-1]))"
   ]
  }
 ],
 "metadata": {
  "interpreter": {
   "hash": "8336230abddf85a168fff59aa340863a341785bf20719df20d9f0ccc1818ff6e"
  },
  "kernelspec": {
   "display_name": "Python 3.8.10 ('qmind')",
   "language": "python",
   "name": "python3"
  },
  "language_info": {
   "codemirror_mode": {
    "name": "ipython",
    "version": 3
   },
   "file_extension": ".py",
   "mimetype": "text/x-python",
   "name": "python",
   "nbconvert_exporter": "python",
   "pygments_lexer": "ipython3",
   "version": "3.8.10"
  },
  "orig_nbformat": 4
 },
 "nbformat": 4,
 "nbformat_minor": 2
}
