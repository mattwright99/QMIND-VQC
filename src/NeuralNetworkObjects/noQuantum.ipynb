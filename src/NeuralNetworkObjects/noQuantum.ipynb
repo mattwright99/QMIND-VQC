{
 "cells": [
  {
   "cell_type": "code",
   "execution_count": 4,
   "metadata": {},
   "outputs": [],
   "source": [
    "import torch\n",
    "import torchvision"
   ]
  },
  {
   "cell_type": "code",
   "execution_count": 5,
   "metadata": {},
   "outputs": [
    {
     "data": {
      "text/plain": [
       "<torch._C.Generator at 0x7f1f840f3270>"
      ]
     },
     "execution_count": 5,
     "metadata": {},
     "output_type": "execute_result"
    }
   ],
   "source": [
    "n_epochs = 3\n",
    "batch_size_train = 64\n",
    "batch_size_test = 1000\n",
    "learning_rate = 0.01\n",
    "momentum = 0.5\n",
    "log_interval = 10\n",
    "\n",
    "random_seed = 1\n",
    "torch.backends.cudnn.enabled = False\n",
    "torch.manual_seed(random_seed)"
   ]
  },
  {
   "cell_type": "code",
   "execution_count": 6,
   "metadata": {},
   "outputs": [],
   "source": [
    "train_loader = torch.utils.data.DataLoader(\n",
    "  torchvision.datasets.MNIST('./filesNoQ/', train=True, download=True,\n",
    "                             transform=torchvision.transforms.Compose([\n",
    "                               torchvision.transforms.ToTensor(),\n",
    "                               torchvision.transforms.Normalize(\n",
    "                                 (0.1307,), (0.3081,))\n",
    "                             ])),\n",
    "  batch_size=batch_size_train, shuffle=True)\n",
    "\n",
    "test_loader = torch.utils.data.DataLoader(\n",
    "  torchvision.datasets.MNIST('./filesNoQ/', train=False, download=True,\n",
    "                             transform=torchvision.transforms.Compose([\n",
    "                               torchvision.transforms.ToTensor(),\n",
    "                               torchvision.transforms.Normalize(\n",
    "                                 (0.1307,), (0.3081,))\n",
    "                             ])),\n",
    "  batch_size=batch_size_test, shuffle=True)"
   ]
  },
  {
   "cell_type": "code",
   "execution_count": 7,
   "metadata": {},
   "outputs": [],
   "source": [
    "examples = enumerate(test_loader)\n",
    "batch_idx, (example_data, example_targets) = next(examples)"
   ]
  },
  {
   "cell_type": "code",
   "execution_count": 8,
   "metadata": {},
   "outputs": [
    {
     "data": {
      "text/plain": [
       "torch.Size([1000, 1, 28, 28])"
      ]
     },
     "execution_count": 8,
     "metadata": {},
     "output_type": "execute_result"
    }
   ],
   "source": [
    "example_data.shape"
   ]
  },
  {
   "cell_type": "code",
   "execution_count": 9,
   "metadata": {},
   "outputs": [
    {
     "data": {
      "image/png": "[encoded data removed]",
      "text/plain": [
       "<Figure size 432x288 with 6 Axes>"
      ]
     },
     "execution_count": 9,
     "metadata": {},
     "output_type": "execute_result"
    },
    {
     "data": {
      "image/png": "[encoded data removed]",
      "text/plain": [
       "<Figure size 432x288 with 6 Axes>"
      ]
     },
     "metadata": {},
     "output_type": "display_data"
    }
   ],
   "source": [
    "import matplotlib.pyplot as plt\n",
    "\n",
    "fig = plt.figure()\n",
    "for i in range(6):\n",
    "  plt.subplot(2,3,i+1)\n",
    "  plt.tight_layout()\n",
    "  plt.imshow(example_data[i][0], cmap='gray', interpolation='none')\n",
    "  plt.title(\"Ground Truth: {}\".format(example_targets[i]))\n",
    "  plt.xticks([])\n",
    "  plt.yticks([])\n",
    "fig"
   ]
  },
  {
   "cell_type": "code",
   "execution_count": 10,
   "metadata": {},
   "outputs": [],
   "source": [
    "import torch.nn as nn\n",
    "import torch.nn.functional as F\n",
    "import torch.optim as optim"
   ]
  },
  {
   "cell_type": "code",
   "execution_count": 11,
   "metadata": {},
   "outputs": [],
   "source": [
    "class Net(nn.Module):\n",
    "    def __init__(self):\n",
    "        super(Net, self).__init__()\n",
    "        self.conv1 = nn.Conv2d(1, 10, kernel_size=5)\n",
    "        self.conv2 = nn.Conv2d(10, 20, kernel_size=5)\n",
    "        self.conv2_drop = nn.Dropout2d()\n",
    "        self.fc1 = nn.Linear(320, 50)\n",
    "        self.fc2 = nn.Linear(50, 10)\n",
    "\n",
    "    def forward(self, x):\n",
    "        x = F.relu(F.max_pool2d(self.conv1(x), 2))\n",
    "        x = F.relu(F.max_pool2d(self.conv2_drop(self.conv2(x)), 2))\n",
    "        x = x.view(-1, 320)\n",
    "        x = F.relu(self.fc1(x))\n",
    "        x = F.dropout(x, training=self.training)\n",
    "        x = self.fc2(x)\n",
    "        return F.log_softmax(x)"
   ]
  },
  {
   "cell_type": "code",
   "execution_count": 12,
   "metadata": {},
   "outputs": [],
   "source": [
    "network = Net()\n",
    "optimizer = optim.SGD(network.parameters(), lr=learning_rate,\n",
    "                      momentum=momentum)"
   ]
  },
  {
   "cell_type": "code",
   "execution_count": 13,
   "metadata": {},
   "outputs": [],
   "source": [
    "train_losses = []\n",
    "train_counter = []\n",
    "test_losses = []\n",
    "test_counter = [i*len(train_loader.dataset) for i in range(n_epochs + 1)]"
   ]
  },
  {
   "cell_type": "code",
   "execution_count": 17,
   "metadata": {},
   "outputs": [],
   "source": [
    "def train(epoch):\n",
    "  network.train()\n",
    "  for batch_idx, (data, target) in enumerate(train_loader):\n",
    "    optimizer.zero_grad()\n",
    "    output = network(data)\n",
    "    loss = F.nll_loss(output, target)\n",
    "    loss.backward()\n",
    "    optimizer.step()\n",
    "    if batch_idx % log_interval == 0:\n",
    "      print('Train Epoch: {} [{}/{} ({:.0f}%)]\\tLoss: {:.6f}'.format(\n",
    "        epoch, batch_idx * len(data), len(train_loader.dataset),\n",
    "        100. * batch_idx / len(train_loader), loss.item()))\n",
    "      train_losses.append(loss.item())\n",
    "      train_counter.append(\n",
    "        (batch_idx*64) + ((epoch-1)*len(train_loader.dataset)))\n",
    "      #torch.save(network.state_dict(), '/results/model.pth')\n",
    "      #torch.save(optimizer.state_dict(), '/results/optimizer.pth')"
   ]
  },
  {
   "cell_type": "code",
   "execution_count": 18,
   "metadata": {},
   "outputs": [],
   "source": [
    "def test():\n",
    "  network.eval()\n",
    "  test_loss = 0\n",
    "  correct = 0\n",
    "  with torch.no_grad():\n",
    "    for data, target in test_loader:\n",
    "      output = network(data)\n",
    "      test_loss += F.nll_loss(output, target, size_average=False).item()\n",
    "      pred = output.data.max(1, keepdim=True)[1]\n",
    "      correct += pred.eq(target.data.view_as(pred)).sum()\n",
    "  test_loss /= len(test_loader.dataset)\n",
    "  test_losses.append(test_loss)\n",
    "  print('\\nTest set: Avg. loss: {:.4f}, Accuracy: {}/{} ({:.0f}%)\\n'.format(\n",
    "    test_loss, correct, len(test_loader.dataset),\n",
    "    100. * correct / len(test_loader.dataset)))"
   ]
  },
  {
   "cell_type": "code",
   "execution_count": 19,
   "metadata": {},
   "outputs": [
    {
     "name": "stderr",
     "output_type": "stream",
     "text": [
      "/tmp/ipykernel_4182/161431047.py:17: UserWarning: Implicit dimension choice for log_softmax has been deprecated. Change the call to include dim=X as an argument.\n",
      "  return F.log_softmax(x)\n"
     ]
    },
    {
     "name": "stdout",
     "output_type": "stream",
     "text": [
      "\n",
      "Test set: Avg. loss: 2.3084, Accuracy: 923/10000 (9%)\n",
      "\n",
      "Train Epoch: 1 [0/60000 (0%)]\tLoss: 2.324247\n",
      "Train Epoch: 1 [640/60000 (1%)]\tLoss: 2.273413\n",
      "Train Epoch: 1 [1280/60000 (2%)]\tLoss: 2.252027\n",
      "Train Epoch: 1 [1920/60000 (3%)]\tLoss: 2.279411\n",
      "Train Epoch: 1 [2560/60000 (4%)]\tLoss: 2.259859\n",
      "Train Epoch: 1 [3200/60000 (5%)]\tLoss: 2.255871\n",
      "Train Epoch: 1 [3840/60000 (6%)]\tLoss: 2.175713\n",
      "Train Epoch: 1 [4480/60000 (7%)]\tLoss: 2.212805\n",
      "Train Epoch: 1 [5120/60000 (9%)]\tLoss: 2.093185\n",
      "Train Epoch: 1 [5760/60000 (10%)]\tLoss: 2.029723\n",
      "Train Epoch: 1 [6400/60000 (11%)]\tLoss: 1.901314\n",
      "Train Epoch: 1 [7040/60000 (12%)]\tLoss: 1.907668\n",
      "Train Epoch: 1 [7680/60000 (13%)]\tLoss: 1.777701\n",
      "Train Epoch: 1 [8320/60000 (14%)]\tLoss: 1.564114\n",
      "Train Epoch: 1 [8960/60000 (15%)]\tLoss: 1.369018\n",
      "Train Epoch: 1 [9600/60000 (16%)]\tLoss: 1.345625\n",
      "Train Epoch: 1 [10240/60000 (17%)]\tLoss: 1.406912\n",
      "Train Epoch: 1 [10880/60000 (18%)]\tLoss: 1.167260\n",
      "Train Epoch: 1 [11520/60000 (19%)]\tLoss: 1.428833\n",
      "Train Epoch: 1 [12160/60000 (20%)]\tLoss: 1.226223\n",
      "Train Epoch: 1 [12800/60000 (21%)]\tLoss: 1.084521\n",
      "Train Epoch: 1 [13440/60000 (22%)]\tLoss: 1.057577\n",
      "Train Epoch: 1 [14080/60000 (23%)]\tLoss: 1.316415\n",
      "Train Epoch: 1 [14720/60000 (25%)]\tLoss: 1.094332\n",
      "Train Epoch: 1 [15360/60000 (26%)]\tLoss: 0.972975\n",
      "Train Epoch: 1 [16000/60000 (27%)]\tLoss: 0.993254\n",
      "Train Epoch: 1 [16640/60000 (28%)]\tLoss: 1.216182\n",
      "Train Epoch: 1 [17280/60000 (29%)]\tLoss: 0.877952\n",
      "Train Epoch: 1 [17920/60000 (30%)]\tLoss: 0.950441\n",
      "Train Epoch: 1 [18560/60000 (31%)]\tLoss: 0.864005\n",
      "Train Epoch: 1 [19200/60000 (32%)]\tLoss: 0.791451\n",
      "Train Epoch: 1 [19840/60000 (33%)]\tLoss: 0.720565\n",
      "Train Epoch: 1 [20480/60000 (34%)]\tLoss: 0.929529\n",
      "Train Epoch: 1 [21120/60000 (35%)]\tLoss: 0.724458\n",
      "Train Epoch: 1 [21760/60000 (36%)]\tLoss: 0.679800\n",
      "Train Epoch: 1 [22400/60000 (37%)]\tLoss: 0.757730\n",
      "Train Epoch: 1 [23040/60000 (38%)]\tLoss: 0.565342\n",
      "Train Epoch: 1 [23680/60000 (39%)]\tLoss: 0.721686\n",
      "Train Epoch: 1 [24320/60000 (41%)]\tLoss: 0.742213\n",
      "Train Epoch: 1 [24960/60000 (42%)]\tLoss: 0.773960\n",
      "Train Epoch: 1 [25600/60000 (43%)]\tLoss: 0.674492\n",
      "Train Epoch: 1 [26240/60000 (44%)]\tLoss: 0.528191\n",
      "Train Epoch: 1 [26880/60000 (45%)]\tLoss: 0.516634\n",
      "Train Epoch: 1 [27520/60000 (46%)]\tLoss: 0.449896\n",
      "Train Epoch: 1 [28160/60000 (47%)]\tLoss: 0.714759\n",
      "Train Epoch: 1 [28800/60000 (48%)]\tLoss: 0.625674\n",
      "Train Epoch: 1 [29440/60000 (49%)]\tLoss: 0.580290\n",
      "Train Epoch: 1 [30080/60000 (50%)]\tLoss: 0.467936\n",
      "Train Epoch: 1 [30720/60000 (51%)]\tLoss: 0.726280\n",
      "Train Epoch: 1 [31360/60000 (52%)]\tLoss: 0.606986\n",
      "Train Epoch: 1 [32000/60000 (53%)]\tLoss: 0.463433\n",
      "Train Epoch: 1 [32640/60000 (54%)]\tLoss: 0.779988\n",
      "Train Epoch: 1 [33280/60000 (55%)]\tLoss: 0.561440\n",
      "Train Epoch: 1 [33920/60000 (57%)]\tLoss: 0.788374\n",
      "Train Epoch: 1 [34560/60000 (58%)]\tLoss: 0.710292\n",
      "Train Epoch: 1 [35200/60000 (59%)]\tLoss: 0.471597\n",
      "Train Epoch: 1 [35840/60000 (60%)]\tLoss: 0.902622\n",
      "Train Epoch: 1 [36480/60000 (61%)]\tLoss: 0.541066\n",
      "Train Epoch: 1 [37120/60000 (62%)]\tLoss: 0.270928\n",
      "Train Epoch: 1 [37760/60000 (63%)]\tLoss: 0.431418\n",
      "Train Epoch: 1 [38400/60000 (64%)]\tLoss: 0.784897\n",
      "Train Epoch: 1 [39040/60000 (65%)]\tLoss: 0.731559\n",
      "Train Epoch: 1 [39680/60000 (66%)]\tLoss: 0.765146\n",
      "Train Epoch: 1 [40320/60000 (67%)]\tLoss: 0.636980\n",
      "Train Epoch: 1 [40960/60000 (68%)]\tLoss: 0.752311\n",
      "Train Epoch: 1 [41600/60000 (69%)]\tLoss: 0.500916\n",
      "Train Epoch: 1 [42240/60000 (70%)]\tLoss: 0.672734\n",
      "Train Epoch: 1 [42880/60000 (71%)]\tLoss: 0.322847\n",
      "Train Epoch: 1 [43520/60000 (72%)]\tLoss: 0.499428\n",
      "Train Epoch: 1 [44160/60000 (74%)]\tLoss: 0.816622\n",
      "Train Epoch: 1 [44800/60000 (75%)]\tLoss: 0.524158\n",
      "Train Epoch: 1 [45440/60000 (76%)]\tLoss: 0.471400\n",
      "Train Epoch: 1 [46080/60000 (77%)]\tLoss: 0.456433\n",
      "Train Epoch: 1 [46720/60000 (78%)]\tLoss: 0.552214\n",
      "Train Epoch: 1 [47360/60000 (79%)]\tLoss: 0.520271\n",
      "Train Epoch: 1 [48000/60000 (80%)]\tLoss: 0.581237\n",
      "Train Epoch: 1 [48640/60000 (81%)]\tLoss: 0.902062\n",
      "Train Epoch: 1 [49280/60000 (82%)]\tLoss: 0.546053\n",
      "Train Epoch: 1 [49920/60000 (83%)]\tLoss: 0.504621\n",
      "Train Epoch: 1 [50560/60000 (84%)]\tLoss: 0.535887\n",
      "Train Epoch: 1 [51200/60000 (85%)]\tLoss: 0.679821\n",
      "Train Epoch: 1 [51840/60000 (86%)]\tLoss: 0.761442\n",
      "Train Epoch: 1 [52480/60000 (87%)]\tLoss: 0.562689\n",
      "Train Epoch: 1 [53120/60000 (88%)]\tLoss: 0.482529\n",
      "Train Epoch: 1 [53760/60000 (90%)]\tLoss: 0.613673\n",
      "Train Epoch: 1 [54400/60000 (91%)]\tLoss: 0.347080\n",
      "Train Epoch: 1 [55040/60000 (92%)]\tLoss: 0.496360\n",
      "Train Epoch: 1 [55680/60000 (93%)]\tLoss: 0.711773\n",
      "Train Epoch: 1 [56320/60000 (94%)]\tLoss: 0.535969\n",
      "Train Epoch: 1 [56960/60000 (95%)]\tLoss: 0.476439\n",
      "Train Epoch: 1 [57600/60000 (96%)]\tLoss: 0.327278\n",
      "Train Epoch: 1 [58240/60000 (97%)]\tLoss: 0.425256\n",
      "Train Epoch: 1 [58880/60000 (98%)]\tLoss: 0.394152\n",
      "Train Epoch: 1 [59520/60000 (99%)]\tLoss: 0.567946\n",
      "\n",
      "Test set: Avg. loss: 0.1842, Accuracy: 9471/10000 (95%)\n",
      "\n",
      "Train Epoch: 2 [0/60000 (0%)]\tLoss: 0.385642\n",
      "Train Epoch: 2 [640/60000 (1%)]\tLoss: 0.588973\n",
      "Train Epoch: 2 [1280/60000 (2%)]\tLoss: 0.421923\n",
      "Train Epoch: 2 [1920/60000 (3%)]\tLoss: 0.373330\n",
      "Train Epoch: 2 [2560/60000 (4%)]\tLoss: 0.675021\n",
      "Train Epoch: 2 [3200/60000 (5%)]\tLoss: 0.526528\n",
      "Train Epoch: 2 [3840/60000 (6%)]\tLoss: 0.575263\n",
      "Train Epoch: 2 [4480/60000 (7%)]\tLoss: 0.453116\n",
      "Train Epoch: 2 [5120/60000 (9%)]\tLoss: 0.485989\n",
      "Train Epoch: 2 [5760/60000 (10%)]\tLoss: 0.352162\n",
      "Train Epoch: 2 [6400/60000 (11%)]\tLoss: 0.356752\n",
      "Train Epoch: 2 [7040/60000 (12%)]\tLoss: 0.539941\n",
      "Train Epoch: 2 [7680/60000 (13%)]\tLoss: 0.376320\n",
      "Train Epoch: 2 [8320/60000 (14%)]\tLoss: 0.486017\n",
      "Train Epoch: 2 [8960/60000 (15%)]\tLoss: 0.235355\n",
      "Train Epoch: 2 [9600/60000 (16%)]\tLoss: 0.538826\n",
      "Train Epoch: 2 [10240/60000 (17%)]\tLoss: 0.491994\n",
      "Train Epoch: 2 [10880/60000 (18%)]\tLoss: 0.215624\n",
      "Train Epoch: 2 [11520/60000 (19%)]\tLoss: 0.319763\n",
      "Train Epoch: 2 [12160/60000 (20%)]\tLoss: 0.437110\n",
      "Train Epoch: 2 [12800/60000 (21%)]\tLoss: 0.549037\n",
      "Train Epoch: 2 [13440/60000 (22%)]\tLoss: 0.516163\n",
      "Train Epoch: 2 [14080/60000 (23%)]\tLoss: 0.386220\n",
      "Train Epoch: 2 [14720/60000 (25%)]\tLoss: 0.342535\n",
      "Train Epoch: 2 [15360/60000 (26%)]\tLoss: 0.620654\n",
      "Train Epoch: 2 [16000/60000 (27%)]\tLoss: 0.321980\n",
      "Train Epoch: 2 [16640/60000 (28%)]\tLoss: 0.347775\n",
      "Train Epoch: 2 [17280/60000 (29%)]\tLoss: 0.228384\n",
      "Train Epoch: 2 [17920/60000 (30%)]\tLoss: 0.226155\n",
      "Train Epoch: 2 [18560/60000 (31%)]\tLoss: 0.339770\n",
      "Train Epoch: 2 [19200/60000 (32%)]\tLoss: 0.376007\n",
      "Train Epoch: 2 [19840/60000 (33%)]\tLoss: 0.228192\n",
      "Train Epoch: 2 [20480/60000 (34%)]\tLoss: 0.227148\n",
      "Train Epoch: 2 [21120/60000 (35%)]\tLoss: 0.587296\n",
      "Train Epoch: 2 [21760/60000 (36%)]\tLoss: 0.300925\n",
      "Train Epoch: 2 [22400/60000 (37%)]\tLoss: 0.261269\n",
      "Train Epoch: 2 [23040/60000 (38%)]\tLoss: 0.588429\n",
      "Train Epoch: 2 [23680/60000 (39%)]\tLoss: 0.411266\n",
      "Train Epoch: 2 [24320/60000 (41%)]\tLoss: 0.209131\n",
      "Train Epoch: 2 [24960/60000 (42%)]\tLoss: 0.458729\n",
      "Train Epoch: 2 [25600/60000 (43%)]\tLoss: 0.353374\n",
      "Train Epoch: 2 [26240/60000 (44%)]\tLoss: 0.526737\n",
      "Train Epoch: 2 [26880/60000 (45%)]\tLoss: 0.572166\n",
      "Train Epoch: 2 [27520/60000 (46%)]\tLoss: 0.374645\n",
      "Train Epoch: 2 [28160/60000 (47%)]\tLoss: 0.558370\n",
      "Train Epoch: 2 [28800/60000 (48%)]\tLoss: 0.518166\n",
      "Train Epoch: 2 [29440/60000 (49%)]\tLoss: 0.164801\n",
      "Train Epoch: 2 [30080/60000 (50%)]\tLoss: 0.252549\n",
      "Train Epoch: 2 [30720/60000 (51%)]\tLoss: 0.288469\n",
      "Train Epoch: 2 [31360/60000 (52%)]\tLoss: 0.314216\n",
      "Train Epoch: 2 [32000/60000 (53%)]\tLoss: 0.305476\n",
      "Train Epoch: 2 [32640/60000 (54%)]\tLoss: 0.515773\n",
      "Train Epoch: 2 [33280/60000 (55%)]\tLoss: 0.312162\n",
      "Train Epoch: 2 [33920/60000 (57%)]\tLoss: 0.496810\n",
      "Train Epoch: 2 [34560/60000 (58%)]\tLoss: 0.237441\n",
      "Train Epoch: 2 [35200/60000 (59%)]\tLoss: 0.298268\n",
      "Train Epoch: 2 [35840/60000 (60%)]\tLoss: 0.248076\n",
      "Train Epoch: 2 [36480/60000 (61%)]\tLoss: 0.317098\n",
      "Train Epoch: 2 [37120/60000 (62%)]\tLoss: 0.248546\n",
      "Train Epoch: 2 [37760/60000 (63%)]\tLoss: 0.430599\n",
      "Train Epoch: 2 [38400/60000 (64%)]\tLoss: 0.177511\n",
      "Train Epoch: 2 [39040/60000 (65%)]\tLoss: 0.314510\n",
      "Train Epoch: 2 [39680/60000 (66%)]\tLoss: 0.338820\n",
      "Train Epoch: 2 [40320/60000 (67%)]\tLoss: 0.349449\n",
      "Train Epoch: 2 [40960/60000 (68%)]\tLoss: 0.194378\n",
      "Train Epoch: 2 [41600/60000 (69%)]\tLoss: 0.290237\n",
      "Train Epoch: 2 [42240/60000 (70%)]\tLoss: 0.375335\n",
      "Train Epoch: 2 [42880/60000 (71%)]\tLoss: 0.372891\n",
      "Train Epoch: 2 [43520/60000 (72%)]\tLoss: 0.464235\n",
      "Train Epoch: 2 [44160/60000 (74%)]\tLoss: 0.266477\n",
      "Train Epoch: 2 [44800/60000 (75%)]\tLoss: 0.428414\n",
      "Train Epoch: 2 [45440/60000 (76%)]\tLoss: 0.307533\n",
      "Train Epoch: 2 [46080/60000 (77%)]\tLoss: 0.307317\n",
      "Train Epoch: 2 [46720/60000 (78%)]\tLoss: 0.337723\n",
      "Train Epoch: 2 [47360/60000 (79%)]\tLoss: 0.144303\n",
      "Train Epoch: 2 [48000/60000 (80%)]\tLoss: 0.203617\n",
      "Train Epoch: 2 [48640/60000 (81%)]\tLoss: 0.391410\n",
      "Train Epoch: 2 [49280/60000 (82%)]\tLoss: 0.478109\n",
      "Train Epoch: 2 [49920/60000 (83%)]\tLoss: 0.233959\n",
      "Train Epoch: 2 [50560/60000 (84%)]\tLoss: 0.348666\n",
      "Train Epoch: 2 [51200/60000 (85%)]\tLoss: 0.267634\n",
      "Train Epoch: 2 [51840/60000 (86%)]\tLoss: 0.245607\n",
      "Train Epoch: 2 [52480/60000 (87%)]\tLoss: 0.170864\n",
      "Train Epoch: 2 [53120/60000 (88%)]\tLoss: 0.261375\n",
      "Train Epoch: 2 [53760/60000 (90%)]\tLoss: 0.390353\n",
      "Train Epoch: 2 [54400/60000 (91%)]\tLoss: 0.520087\n",
      "Train Epoch: 2 [55040/60000 (92%)]\tLoss: 0.314424\n",
      "Train Epoch: 2 [55680/60000 (93%)]\tLoss: 0.337711\n",
      "Train Epoch: 2 [56320/60000 (94%)]\tLoss: 0.316899\n",
      "Train Epoch: 2 [56960/60000 (95%)]\tLoss: 0.301810\n",
      "Train Epoch: 2 [57600/60000 (96%)]\tLoss: 0.583176\n",
      "Train Epoch: 2 [58240/60000 (97%)]\tLoss: 0.439058\n",
      "Train Epoch: 2 [58880/60000 (98%)]\tLoss: 0.494965\n",
      "Train Epoch: 2 [59520/60000 (99%)]\tLoss: 0.327998\n",
      "\n",
      "Test set: Avg. loss: 0.1196, Accuracy: 9656/10000 (97%)\n",
      "\n",
      "Train Epoch: 3 [0/60000 (0%)]\tLoss: 0.245339\n",
      "Train Epoch: 3 [640/60000 (1%)]\tLoss: 0.375993\n",
      "Train Epoch: 3 [1280/60000 (2%)]\tLoss: 0.372606\n",
      "Train Epoch: 3 [1920/60000 (3%)]\tLoss: 0.389304\n",
      "Train Epoch: 3 [2560/60000 (4%)]\tLoss: 0.450610\n",
      "Train Epoch: 3 [3200/60000 (5%)]\tLoss: 0.339900\n",
      "Train Epoch: 3 [3840/60000 (6%)]\tLoss: 0.332353\n",
      "Train Epoch: 3 [4480/60000 (7%)]\tLoss: 0.276225\n",
      "Train Epoch: 3 [5120/60000 (9%)]\tLoss: 0.359600\n",
      "Train Epoch: 3 [5760/60000 (10%)]\tLoss: 0.465770\n",
      "Train Epoch: 3 [6400/60000 (11%)]\tLoss: 0.231515\n",
      "Train Epoch: 3 [7040/60000 (12%)]\tLoss: 0.310276\n",
      "Train Epoch: 3 [7680/60000 (13%)]\tLoss: 0.254341\n",
      "Train Epoch: 3 [8320/60000 (14%)]\tLoss: 0.282243\n",
      "Train Epoch: 3 [8960/60000 (15%)]\tLoss: 0.227044\n",
      "Train Epoch: 3 [9600/60000 (16%)]\tLoss: 0.291928\n",
      "Train Epoch: 3 [10240/60000 (17%)]\tLoss: 0.269139\n",
      "Train Epoch: 3 [10880/60000 (18%)]\tLoss: 0.502982\n",
      "Train Epoch: 3 [11520/60000 (19%)]\tLoss: 0.341068\n",
      "Train Epoch: 3 [12160/60000 (20%)]\tLoss: 0.374021\n",
      "Train Epoch: 3 [12800/60000 (21%)]\tLoss: 0.291765\n",
      "Train Epoch: 3 [13440/60000 (22%)]\tLoss: 0.238483\n",
      "Train Epoch: 3 [14080/60000 (23%)]\tLoss: 0.339126\n",
      "Train Epoch: 3 [14720/60000 (25%)]\tLoss: 0.257688\n",
      "Train Epoch: 3 [15360/60000 (26%)]\tLoss: 0.331787\n",
      "Train Epoch: 3 [16000/60000 (27%)]\tLoss: 0.290707\n",
      "Train Epoch: 3 [16640/60000 (28%)]\tLoss: 0.331043\n",
      "Train Epoch: 3 [17280/60000 (29%)]\tLoss: 0.381884\n",
      "Train Epoch: 3 [17920/60000 (30%)]\tLoss: 0.189031\n",
      "Train Epoch: 3 [18560/60000 (31%)]\tLoss: 0.334813\n",
      "Train Epoch: 3 [19200/60000 (32%)]\tLoss: 0.250908\n",
      "Train Epoch: 3 [19840/60000 (33%)]\tLoss: 0.199757\n",
      "Train Epoch: 3 [20480/60000 (34%)]\tLoss: 0.272874\n",
      "Train Epoch: 3 [21120/60000 (35%)]\tLoss: 0.292076\n",
      "Train Epoch: 3 [21760/60000 (36%)]\tLoss: 0.362455\n",
      "Train Epoch: 3 [22400/60000 (37%)]\tLoss: 0.405119\n",
      "Train Epoch: 3 [23040/60000 (38%)]\tLoss: 0.345091\n",
      "Train Epoch: 3 [23680/60000 (39%)]\tLoss: 0.383493\n",
      "Train Epoch: 3 [24320/60000 (41%)]\tLoss: 0.219078\n",
      "Train Epoch: 3 [24960/60000 (42%)]\tLoss: 0.247416\n",
      "Train Epoch: 3 [25600/60000 (43%)]\tLoss: 0.172351\n",
      "Train Epoch: 3 [26240/60000 (44%)]\tLoss: 0.521943\n",
      "Train Epoch: 3 [26880/60000 (45%)]\tLoss: 0.366239\n",
      "Train Epoch: 3 [27520/60000 (46%)]\tLoss: 0.241426\n",
      "Train Epoch: 3 [28160/60000 (47%)]\tLoss: 0.248673\n",
      "Train Epoch: 3 [28800/60000 (48%)]\tLoss: 0.353410\n",
      "Train Epoch: 3 [29440/60000 (49%)]\tLoss: 0.338881\n",
      "Train Epoch: 3 [30080/60000 (50%)]\tLoss: 0.243722\n",
      "Train Epoch: 3 [30720/60000 (51%)]\tLoss: 0.284101\n",
      "Train Epoch: 3 [31360/60000 (52%)]\tLoss: 0.213311\n",
      "Train Epoch: 3 [32000/60000 (53%)]\tLoss: 0.475241\n",
      "Train Epoch: 3 [32640/60000 (54%)]\tLoss: 0.630558\n",
      "Train Epoch: 3 [33280/60000 (55%)]\tLoss: 0.181945\n",
      "Train Epoch: 3 [33920/60000 (57%)]\tLoss: 0.284261\n",
      "Train Epoch: 3 [34560/60000 (58%)]\tLoss: 0.322797\n",
      "Train Epoch: 3 [35200/60000 (59%)]\tLoss: 0.365513\n",
      "Train Epoch: 3 [35840/60000 (60%)]\tLoss: 0.210476\n",
      "Train Epoch: 3 [36480/60000 (61%)]\tLoss: 0.322778\n",
      "Train Epoch: 3 [37120/60000 (62%)]\tLoss: 0.245689\n",
      "Train Epoch: 3 [37760/60000 (63%)]\tLoss: 0.481056\n",
      "Train Epoch: 3 [38400/60000 (64%)]\tLoss: 0.414086\n",
      "Train Epoch: 3 [39040/60000 (65%)]\tLoss: 0.272731\n",
      "Train Epoch: 3 [39680/60000 (66%)]\tLoss: 0.427508\n",
      "Train Epoch: 3 [40320/60000 (67%)]\tLoss: 0.369309\n",
      "Train Epoch: 3 [40960/60000 (68%)]\tLoss: 0.263512\n",
      "Train Epoch: 3 [41600/60000 (69%)]\tLoss: 0.239094\n",
      "Train Epoch: 3 [42240/60000 (70%)]\tLoss: 0.273409\n",
      "Train Epoch: 3 [42880/60000 (71%)]\tLoss: 0.257185\n",
      "Train Epoch: 3 [43520/60000 (72%)]\tLoss: 0.414338\n",
      "Train Epoch: 3 [44160/60000 (74%)]\tLoss: 0.222096\n",
      "Train Epoch: 3 [44800/60000 (75%)]\tLoss: 0.433813\n",
      "Train Epoch: 3 [45440/60000 (76%)]\tLoss: 0.231024\n",
      "Train Epoch: 3 [46080/60000 (77%)]\tLoss: 0.256636\n",
      "Train Epoch: 3 [46720/60000 (78%)]\tLoss: 0.308746\n",
      "Train Epoch: 3 [47360/60000 (79%)]\tLoss: 0.432926\n",
      "Train Epoch: 3 [48000/60000 (80%)]\tLoss: 0.337791\n",
      "Train Epoch: 3 [48640/60000 (81%)]\tLoss: 0.324688\n",
      "Train Epoch: 3 [49280/60000 (82%)]\tLoss: 0.510840\n",
      "Train Epoch: 3 [49920/60000 (83%)]\tLoss: 0.473240\n",
      "Train Epoch: 3 [50560/60000 (84%)]\tLoss: 0.179472\n",
      "Train Epoch: 3 [51200/60000 (85%)]\tLoss: 0.431753\n",
      "Train Epoch: 3 [51840/60000 (86%)]\tLoss: 0.194236\n",
      "Train Epoch: 3 [52480/60000 (87%)]\tLoss: 0.309883\n",
      "Train Epoch: 3 [53120/60000 (88%)]\tLoss: 0.211669\n",
      "Train Epoch: 3 [53760/60000 (90%)]\tLoss: 0.141220\n",
      "Train Epoch: 3 [54400/60000 (91%)]\tLoss: 0.298266\n",
      "Train Epoch: 3 [55040/60000 (92%)]\tLoss: 0.258701\n",
      "Train Epoch: 3 [55680/60000 (93%)]\tLoss: 0.352442\n",
      "Train Epoch: 3 [56320/60000 (94%)]\tLoss: 0.483578\n",
      "Train Epoch: 3 [56960/60000 (95%)]\tLoss: 0.283645\n",
      "Train Epoch: 3 [57600/60000 (96%)]\tLoss: 0.231577\n",
      "Train Epoch: 3 [58240/60000 (97%)]\tLoss: 0.241404\n",
      "Train Epoch: 3 [58880/60000 (98%)]\tLoss: 0.437877\n",
      "Train Epoch: 3 [59520/60000 (99%)]\tLoss: 0.471503\n",
      "\n",
      "Test set: Avg. loss: 0.0977, Accuracy: 9700/10000 (97%)\n",
      "\n"
     ]
    }
   ],
   "source": [
    "test()\n",
    "for epoch in range(1, n_epochs + 1):\n",
    "  train(epoch)\n",
    "  test()"
   ]
  },
  {
   "cell_type": "code",
   "execution_count": 20,
   "metadata": {},
   "outputs": [
    {
     "ename": "ValueError",
     "evalue": "x and y must be the same size",
     "output_type": "error",
     "traceback": [
      "\u001b[0;31m---------------------------------------------------------------------------\u001b[0m",
      "\u001b[0;31mValueError\u001b[0m                                Traceback (most recent call last)",
      "\u001b[1;32m/mnt/c/Users/4ccha/OneDrive - Queen's University/Design Teams/QMIND/qmindgithub/QMIND-VQC/src/NeuralNetworkObjects/noQuantum.ipynb Cell 14'\u001b[0m in \u001b[0;36m<module>\u001b[0;34m\u001b[0m\n\u001b[1;32m      <a href='vscode-notebook-cell://wsl%2Bubuntu-20.04/mnt/c/Users/4ccha/OneDrive%20-%20Queen%27s%20University/Design%20Teams/QMIND/qmindgithub/QMIND-VQC/src/NeuralNetworkObjects/noQuantum.ipynb#ch0000013vscode-remote?line=0'>1</a>\u001b[0m fig \u001b[39m=\u001b[39m plt\u001b[39m.\u001b[39mfigure()\n\u001b[1;32m      <a href='vscode-notebook-cell://wsl%2Bubuntu-20.04/mnt/c/Users/4ccha/OneDrive%20-%20Queen%27s%20University/Design%20Teams/QMIND/qmindgithub/QMIND-VQC/src/NeuralNetworkObjects/noQuantum.ipynb#ch0000013vscode-remote?line=1'>2</a>\u001b[0m plt\u001b[39m.\u001b[39mplot(train_counter, train_losses, color\u001b[39m=\u001b[39m\u001b[39m'\u001b[39m\u001b[39mblue\u001b[39m\u001b[39m'\u001b[39m)\n\u001b[0;32m----> <a href='vscode-notebook-cell://wsl%2Bubuntu-20.04/mnt/c/Users/4ccha/OneDrive%20-%20Queen%27s%20University/Design%20Teams/QMIND/qmindgithub/QMIND-VQC/src/NeuralNetworkObjects/noQuantum.ipynb#ch0000013vscode-remote?line=2'>3</a>\u001b[0m plt\u001b[39m.\u001b[39;49mscatter(test_counter, test_losses, color\u001b[39m=\u001b[39;49m\u001b[39m'\u001b[39;49m\u001b[39mred\u001b[39;49m\u001b[39m'\u001b[39;49m)\n\u001b[1;32m      <a href='vscode-notebook-cell://wsl%2Bubuntu-20.04/mnt/c/Users/4ccha/OneDrive%20-%20Queen%27s%20University/Design%20Teams/QMIND/qmindgithub/QMIND-VQC/src/NeuralNetworkObjects/noQuantum.ipynb#ch0000013vscode-remote?line=3'>4</a>\u001b[0m plt\u001b[39m.\u001b[39mlegend([\u001b[39m'\u001b[39m\u001b[39mTrain Loss\u001b[39m\u001b[39m'\u001b[39m, \u001b[39m'\u001b[39m\u001b[39mTest Loss\u001b[39m\u001b[39m'\u001b[39m], loc\u001b[39m=\u001b[39m\u001b[39m'\u001b[39m\u001b[39mupper right\u001b[39m\u001b[39m'\u001b[39m)\n\u001b[1;32m      <a href='vscode-notebook-cell://wsl%2Bubuntu-20.04/mnt/c/Users/4ccha/OneDrive%20-%20Queen%27s%20University/Design%20Teams/QMIND/qmindgithub/QMIND-VQC/src/NeuralNetworkObjects/noQuantum.ipynb#ch0000013vscode-remote?line=4'>5</a>\u001b[0m plt\u001b[39m.\u001b[39mxlabel(\u001b[39m'\u001b[39m\u001b[39mnumber of training examples seen\u001b[39m\u001b[39m'\u001b[39m)\n",
      "File \u001b[0;32m~/.virtualenvs/qmind/lib/python3.8/site-packages/matplotlib/pyplot.py:2807\u001b[0m, in \u001b[0;36mscatter\u001b[0;34m(x, y, s, c, marker, cmap, norm, vmin, vmax, alpha, linewidths, edgecolors, plotnonfinite, data, **kwargs)\u001b[0m\n\u001b[1;32m   <a href='file:///home/connorc84/.virtualenvs/qmind/lib/python3.8/site-packages/matplotlib/pyplot.py?line=2801'>2802</a>\u001b[0m \u001b[39m@_copy_docstring_and_deprecators\u001b[39m(Axes\u001b[39m.\u001b[39mscatter)\n\u001b[1;32m   <a href='file:///home/connorc84/.virtualenvs/qmind/lib/python3.8/site-packages/matplotlib/pyplot.py?line=2802'>2803</a>\u001b[0m \u001b[39mdef\u001b[39;00m \u001b[39mscatter\u001b[39m(\n\u001b[1;32m   <a href='file:///home/connorc84/.virtualenvs/qmind/lib/python3.8/site-packages/matplotlib/pyplot.py?line=2803'>2804</a>\u001b[0m         x, y, s\u001b[39m=\u001b[39m\u001b[39mNone\u001b[39;00m, c\u001b[39m=\u001b[39m\u001b[39mNone\u001b[39;00m, marker\u001b[39m=\u001b[39m\u001b[39mNone\u001b[39;00m, cmap\u001b[39m=\u001b[39m\u001b[39mNone\u001b[39;00m, norm\u001b[39m=\u001b[39m\u001b[39mNone\u001b[39;00m,\n\u001b[1;32m   <a href='file:///home/connorc84/.virtualenvs/qmind/lib/python3.8/site-packages/matplotlib/pyplot.py?line=2804'>2805</a>\u001b[0m         vmin\u001b[39m=\u001b[39m\u001b[39mNone\u001b[39;00m, vmax\u001b[39m=\u001b[39m\u001b[39mNone\u001b[39;00m, alpha\u001b[39m=\u001b[39m\u001b[39mNone\u001b[39;00m, linewidths\u001b[39m=\u001b[39m\u001b[39mNone\u001b[39;00m, \u001b[39m*\u001b[39m,\n\u001b[1;32m   <a href='file:///home/connorc84/.virtualenvs/qmind/lib/python3.8/site-packages/matplotlib/pyplot.py?line=2805'>2806</a>\u001b[0m         edgecolors\u001b[39m=\u001b[39m\u001b[39mNone\u001b[39;00m, plotnonfinite\u001b[39m=\u001b[39m\u001b[39mFalse\u001b[39;00m, data\u001b[39m=\u001b[39m\u001b[39mNone\u001b[39;00m, \u001b[39m*\u001b[39m\u001b[39m*\u001b[39mkwargs):\n\u001b[0;32m-> <a href='file:///home/connorc84/.virtualenvs/qmind/lib/python3.8/site-packages/matplotlib/pyplot.py?line=2806'>2807</a>\u001b[0m     __ret \u001b[39m=\u001b[39m gca()\u001b[39m.\u001b[39;49mscatter(\n\u001b[1;32m   <a href='file:///home/connorc84/.virtualenvs/qmind/lib/python3.8/site-packages/matplotlib/pyplot.py?line=2807'>2808</a>\u001b[0m         x, y, s\u001b[39m=\u001b[39;49ms, c\u001b[39m=\u001b[39;49mc, marker\u001b[39m=\u001b[39;49mmarker, cmap\u001b[39m=\u001b[39;49mcmap, norm\u001b[39m=\u001b[39;49mnorm,\n\u001b[1;32m   <a href='file:///home/connorc84/.virtualenvs/qmind/lib/python3.8/site-packages/matplotlib/pyplot.py?line=2808'>2809</a>\u001b[0m         vmin\u001b[39m=\u001b[39;49mvmin, vmax\u001b[39m=\u001b[39;49mvmax, alpha\u001b[39m=\u001b[39;49malpha, linewidths\u001b[39m=\u001b[39;49mlinewidths,\n\u001b[1;32m   <a href='file:///home/connorc84/.virtualenvs/qmind/lib/python3.8/site-packages/matplotlib/pyplot.py?line=2809'>2810</a>\u001b[0m         edgecolors\u001b[39m=\u001b[39;49medgecolors, plotnonfinite\u001b[39m=\u001b[39;49mplotnonfinite,\n\u001b[1;32m   <a href='file:///home/connorc84/.virtualenvs/qmind/lib/python3.8/site-packages/matplotlib/pyplot.py?line=2810'>2811</a>\u001b[0m         \u001b[39m*\u001b[39;49m\u001b[39m*\u001b[39;49m({\u001b[39m\"\u001b[39;49m\u001b[39mdata\u001b[39;49m\u001b[39m\"\u001b[39;49m: data} \u001b[39mif\u001b[39;49;00m data \u001b[39mis\u001b[39;49;00m \u001b[39mnot\u001b[39;49;00m \u001b[39mNone\u001b[39;49;00m \u001b[39melse\u001b[39;49;00m {}), \u001b[39m*\u001b[39;49m\u001b[39m*\u001b[39;49mkwargs)\n\u001b[1;32m   <a href='file:///home/connorc84/.virtualenvs/qmind/lib/python3.8/site-packages/matplotlib/pyplot.py?line=2811'>2812</a>\u001b[0m     sci(__ret)\n\u001b[1;32m   <a href='file:///home/connorc84/.virtualenvs/qmind/lib/python3.8/site-packages/matplotlib/pyplot.py?line=2812'>2813</a>\u001b[0m     \u001b[39mreturn\u001b[39;00m __ret\n",
      "File \u001b[0;32m~/.virtualenvs/qmind/lib/python3.8/site-packages/matplotlib/__init__.py:1412\u001b[0m, in \u001b[0;36m_preprocess_data.<locals>.inner\u001b[0;34m(ax, data, *args, **kwargs)\u001b[0m\n\u001b[1;32m   <a href='file:///home/connorc84/.virtualenvs/qmind/lib/python3.8/site-packages/matplotlib/__init__.py?line=1408'>1409</a>\u001b[0m \u001b[39m@functools\u001b[39m\u001b[39m.\u001b[39mwraps(func)\n\u001b[1;32m   <a href='file:///home/connorc84/.virtualenvs/qmind/lib/python3.8/site-packages/matplotlib/__init__.py?line=1409'>1410</a>\u001b[0m \u001b[39mdef\u001b[39;00m \u001b[39minner\u001b[39m(ax, \u001b[39m*\u001b[39margs, data\u001b[39m=\u001b[39m\u001b[39mNone\u001b[39;00m, \u001b[39m*\u001b[39m\u001b[39m*\u001b[39mkwargs):\n\u001b[1;32m   <a href='file:///home/connorc84/.virtualenvs/qmind/lib/python3.8/site-packages/matplotlib/__init__.py?line=1410'>1411</a>\u001b[0m     \u001b[39mif\u001b[39;00m data \u001b[39mis\u001b[39;00m \u001b[39mNone\u001b[39;00m:\n\u001b[0;32m-> <a href='file:///home/connorc84/.virtualenvs/qmind/lib/python3.8/site-packages/matplotlib/__init__.py?line=1411'>1412</a>\u001b[0m         \u001b[39mreturn\u001b[39;00m func(ax, \u001b[39m*\u001b[39;49m\u001b[39mmap\u001b[39;49m(sanitize_sequence, args), \u001b[39m*\u001b[39;49m\u001b[39m*\u001b[39;49mkwargs)\n\u001b[1;32m   <a href='file:///home/connorc84/.virtualenvs/qmind/lib/python3.8/site-packages/matplotlib/__init__.py?line=1413'>1414</a>\u001b[0m     bound \u001b[39m=\u001b[39m new_sig\u001b[39m.\u001b[39mbind(ax, \u001b[39m*\u001b[39margs, \u001b[39m*\u001b[39m\u001b[39m*\u001b[39mkwargs)\n\u001b[1;32m   <a href='file:///home/connorc84/.virtualenvs/qmind/lib/python3.8/site-packages/matplotlib/__init__.py?line=1414'>1415</a>\u001b[0m     auto_label \u001b[39m=\u001b[39m (bound\u001b[39m.\u001b[39marguments\u001b[39m.\u001b[39mget(label_namer)\n\u001b[1;32m   <a href='file:///home/connorc84/.virtualenvs/qmind/lib/python3.8/site-packages/matplotlib/__init__.py?line=1415'>1416</a>\u001b[0m                   \u001b[39mor\u001b[39;00m bound\u001b[39m.\u001b[39mkwargs\u001b[39m.\u001b[39mget(label_namer))\n",
      "File \u001b[0;32m~/.virtualenvs/qmind/lib/python3.8/site-packages/matplotlib/axes/_axes.py:4369\u001b[0m, in \u001b[0;36mAxes.scatter\u001b[0;34m(self, x, y, s, c, marker, cmap, norm, vmin, vmax, alpha, linewidths, edgecolors, plotnonfinite, **kwargs)\u001b[0m\n\u001b[1;32m   <a href='file:///home/connorc84/.virtualenvs/qmind/lib/python3.8/site-packages/matplotlib/axes/_axes.py?line=4366'>4367</a>\u001b[0m y \u001b[39m=\u001b[39m np\u001b[39m.\u001b[39mma\u001b[39m.\u001b[39mravel(y)\n\u001b[1;32m   <a href='file:///home/connorc84/.virtualenvs/qmind/lib/python3.8/site-packages/matplotlib/axes/_axes.py?line=4367'>4368</a>\u001b[0m \u001b[39mif\u001b[39;00m x\u001b[39m.\u001b[39msize \u001b[39m!=\u001b[39m y\u001b[39m.\u001b[39msize:\n\u001b[0;32m-> <a href='file:///home/connorc84/.virtualenvs/qmind/lib/python3.8/site-packages/matplotlib/axes/_axes.py?line=4368'>4369</a>\u001b[0m     \u001b[39mraise\u001b[39;00m \u001b[39mValueError\u001b[39;00m(\u001b[39m\"\u001b[39m\u001b[39mx and y must be the same size\u001b[39m\u001b[39m\"\u001b[39m)\n\u001b[1;32m   <a href='file:///home/connorc84/.virtualenvs/qmind/lib/python3.8/site-packages/matplotlib/axes/_axes.py?line=4370'>4371</a>\u001b[0m \u001b[39mif\u001b[39;00m s \u001b[39mis\u001b[39;00m \u001b[39mNone\u001b[39;00m:\n\u001b[1;32m   <a href='file:///home/connorc84/.virtualenvs/qmind/lib/python3.8/site-packages/matplotlib/axes/_axes.py?line=4371'>4372</a>\u001b[0m     s \u001b[39m=\u001b[39m (\u001b[39m20\u001b[39m \u001b[39mif\u001b[39;00m rcParams[\u001b[39m'\u001b[39m\u001b[39m_internal.classic_mode\u001b[39m\u001b[39m'\u001b[39m] \u001b[39melse\u001b[39;00m\n\u001b[1;32m   <a href='file:///home/connorc84/.virtualenvs/qmind/lib/python3.8/site-packages/matplotlib/axes/_axes.py?line=4372'>4373</a>\u001b[0m          rcParams[\u001b[39m'\u001b[39m\u001b[39mlines.markersize\u001b[39m\u001b[39m'\u001b[39m] \u001b[39m*\u001b[39m\u001b[39m*\u001b[39m \u001b[39m2.0\u001b[39m)\n",
      "\u001b[0;31mValueError\u001b[0m: x and y must be the same size"
     ]
    },
    {
     "data": {
      "image/png": "[encoded data removed]",
      "text/plain": [
       "<Figure size 432x288 with 1 Axes>"
      ]
     },
     "metadata": {
      "needs_background": "light"
     },
     "output_type": "display_data"
    }
   ],
   "source": [
    "fig = plt.figure()\n",
    "plt.plot(train_counter, train_losses, color='blue')\n",
    "plt.scatter(test_counter, test_losses, color='red')\n",
    "plt.legend(['Train Loss', 'Test Loss'], loc='upper right')\n",
    "plt.xlabel('number of training examples seen')\n",
    "plt.ylabel('negative log likelihood loss')\n",
    "fig"
   ]
  },
  {
   "cell_type": "code",
   "execution_count": null,
   "metadata": {},
   "outputs": [],
   "source": [
    "with torch.no_grad():\n",
    "  output = network(example_data)"
   ]
  },
  {
   "cell_type": "code",
   "execution_count": null,
   "metadata": {},
   "outputs": [],
   "source": [
    "fig = plt.figure()\n",
    "for i in range(6):\n",
    "  plt.subplot(2,3,i+1)\n",
    "  plt.tight_layout()\n",
    "  plt.imshow(example_data[i][0], cmap='gray', interpolation='none')\n",
    "  plt.title(\"Prediction: {}\".format(\n",
    "    output.data.max(1, keepdim=True)[1][i].item()))\n",
    "  plt.xticks([])\n",
    "  plt.yticks([])\n",
    "fig"
   ]
  }
 ],
 "metadata": {
  "interpreter": {
   "hash": "8336230abddf85a168fff59aa340863a341785bf20719df20d9f0ccc1818ff6e"
  },
  "kernelspec": {
   "display_name": "Python 3.8.10 ('qmind')",
   "language": "python",
   "name": "python3"
  },
  "language_info": {
   "codemirror_mode": {
    "name": "ipython",
    "version": 3
   },
   "file_extension": ".py",
   "mimetype": "text/x-python",
   "name": "python",
   "nbconvert_exporter": "python",
   "pygments_lexer": "ipython3",
   "version": "3.8.10"
  },
  "orig_nbformat": 4
 },
 "nbformat": 4,
 "nbformat_minor": 2
}
