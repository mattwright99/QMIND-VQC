{
 "cells": [
  {
   "cell_type": "markdown",
   "metadata": {},
   "source": [
    "This notebook is just a celled version of `main.py` for experimentation"
   ]
  },
  {
   "cell_type": "code",
   "execution_count": 1,
   "metadata": {},
   "outputs": [],
   "source": [
    "import matplotlib.pyplot as plt\n",
    "import numpy as np\n",
    "\n",
    "from qiskit import Aer\n",
    "\n",
    "import torch\n",
    "import torch.optim as optim\n",
    "import torch.nn as nn\n",
    "from torchvision import datasets, transforms\n",
    "import torch.nn.functional as F\n",
    "\n",
<<<<<<< HEAD
    "\n",
    "from model import QuanvNet, QuanvLayer"
=======
    "from model import QuanvNet, ClassicNet\n",
    "\n",
    "import os\n",
    "os.environ[\"KMP_DUPLICATE_LIB_OK\"]=\"TRUE\""
>>>>>>> c792bccf13b65e3014db1d50961efe169aab5363
   ]
  },
  {
   "cell_type": "code",
<<<<<<< HEAD
   "execution_count": 2,
   "metadata": {},
   "outputs": [],
   "source": [
    "n_epochs = 10\n",
    "\n",
    "n_train_samples = 2\n",
    "n_test_samples = 16\n",
    "batch_size_train = 1\n",
    "batch_size_test = 16\n",
    "learning_rate = 0.01\n",
    "momentum = 0.5\n",
    "log_interval = 10\n",
    "\n",
    "random_seed = 123\n",
    "torch.backends.cudnn.enabled = False\n",
    "torch.manual_seed(random_seed)\n",
    "\n",
    "im_size = 8  # resize images to this width and height"
=======
   "execution_count": null,
   "metadata": {},
   "outputs": [],
   "source": [
    "\n",
    "\n"
>>>>>>> c792bccf13b65e3014db1d50961efe169aab5363
   ]
  },
  {
   "cell_type": "markdown",
   "metadata": {},
   "source": [
    "### Load data"
   ]
  },
  {
   "cell_type": "code",
<<<<<<< HEAD
   "execution_count": 3,
   "metadata": {},
   "outputs": [],
   "source": [
    "# Load training data\n",
    "X_train = datasets.MNIST(\n",
    "    root='./data', train=True, download=True,\n",
    "    transform=transforms.Compose([\n",
    "         transforms.ToTensor(),\n",
    "         transforms.Resize((im_size,im_size)),\n",
    "    ])\n",
    ")\n",
    "# Select only labels 0 and 1\n",
    "idx = np.append(np.where(X_train.targets == 0)[0][:n_train_samples], \n",
    "                np.where(X_train.targets == 1)[0][:n_train_samples])\n",
=======
   "execution_count": 2,
   "metadata": {},
   "outputs": [],
   "source": [
    "## TODO: Add data loading \n",
    "# Concentrating on the first 100 samples\n",
    "n_samples = 100\n",
    "\n",
    "X_train = datasets.MNIST(root='./data', train=True, download=True,\n",
    "                         transform=transforms.Compose([transforms.ToTensor(), transforms.Resize([8,8])]))\n",
    "\n",
    "# Leaving only labels 0 and 1 \n",
    "idx = np.append(np.where(X_train.targets == 0)[0][:n_samples], \n",
    "                np.where(X_train.targets == 1)[0][:n_samples])\n",
>>>>>>> c792bccf13b65e3014db1d50961efe169aab5363
    "\n",
    "X_train.data = X_train.data[idx]\n",
    "X_train.targets = X_train.targets[idx]\n",
    "\n",
<<<<<<< HEAD
    "train_loader = torch.utils.data.DataLoader(X_train, batch_size=batch_size_train, shuffle=True)\n",
    "\n",
    "\n",
    "# Load testing data\n",
    "X_test = datasets.MNIST(\n",
    "    root='./data', train=False, download=True,\n",
    "    transform=transforms.Compose([\n",
    "         transforms.ToTensor(),\n",
    "         transforms.Resize((im_size,im_size)),\n",
    "    ])\n",
    ")\n",
    "idx = np.append(np.where(X_test.targets == 0)[0][:n_test_samples], \n",
    "                np.where(X_test.targets == 1)[0][:n_test_samples])\n",
=======
    "train_loader = torch.utils.data.DataLoader(X_train, batch_size=1, shuffle=True)\n",
    "\n",
    "n_samples = 50\n",
    "\n",
    "X_test = datasets.MNIST(root='./data', train=False, download=True,\n",
    "                        transform=transforms.Compose([transforms.ToTensor(), transforms.Resize([8,8])]))\n",
    "\n",
    "idx = np.append(np.where(X_test.targets == 0)[0][:n_samples], \n",
    "                np.where(X_test.targets == 1)[0][:n_samples])\n",
>>>>>>> c792bccf13b65e3014db1d50961efe169aab5363
    "\n",
    "X_test.data = X_test.data[idx]\n",
    "X_test.targets = X_test.targets[idx]\n",
    "\n",
<<<<<<< HEAD
    "test_loader = torch.utils.data.DataLoader(X_test, batch_size=batch_size_test, shuffle=True)"
=======
    "test_loader = torch.utils.data.DataLoader(X_test, batch_size=1, shuffle=True)\n"
>>>>>>> c792bccf13b65e3014db1d50961efe169aab5363
   ]
  },
  {
   "cell_type": "markdown",
   "metadata": {},
   "source": [
    "### Net class for experimentation"
   ]
  },
  {
   "cell_type": "code",
<<<<<<< HEAD
   "execution_count": 4,
=======
   "execution_count": 7,
>>>>>>> c792bccf13b65e3014db1d50961efe169aab5363
   "metadata": {},
   "outputs": [
    {
     "data": {
      "image/png": "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\n",
      "text/plain": [
       "<Figure size 869.197x264.88 with 1 Axes>"
      ]
     },
     "metadata": {},
     "output_type": "display_data"
    }
   ],
   "source": [
<<<<<<< HEAD
    "class CustomQunvNet(nn.Module):\n",
    "    \"\"\"Layout of Quanv model that can be modified on the fly\"\"\"\n",
    "    def __init__(self, input_size=8, shots=128):\n",
    "        super(CustomQunvNet, self).__init__()\n",
    "\n",
    "        self.fc_size = (input_size - 3)**2 * 16  # output size of convloving layers\n",
    "        self.quanv = QuanvLayer(in_channels=1, out_channels=2, kernel_size=2, shots=shots)\n",
    "        self.conv = nn.Conv2d(2, 16, kernel_size=3)\n",
    "        # self.dropout = nn.Dropout2d()\n",
    "        self.fc1 = nn.Linear(self.fc_size, 64)\n",
    "        self.fc2 = nn.Linear(64, 2)\n",
    "\n",
    "    def forward(self, x):\n",
    "        # this is where we build our entire network\n",
    "        # whatever layers of quanvolution, pooling,\n",
    "        # convolution, dropout, flattening,\n",
    "        # fully connectecd layers, go here\n",
    "        x = F.relu(self.quanv(x))\n",
    "        x = F.relu(self.conv(x))\n",
    "        x = x.view(-1, self.fc_size)\n",
    "        x = self.fc1(x)\n",
    "        x = self.fc2(x)\n",
    "        return F.log_softmax(x, dim=1)"
=======
    "# Model trianing\n",
    "model = QuanvNet()\n",
    "optimizer = optim.Adam(model.parameters(), lr=0.001)\n",
    "loss_func = nn.CrossEntropyLoss()\n",
    "epochs = 5\n",
    "\n",
    "display(QuanvNet().quanv.quantum_circuits[0].qc.draw('mpl'))"
>>>>>>> c792bccf13b65e3014db1d50961efe169aab5363
   ]
  },
  {
   "cell_type": "markdown",
   "metadata": {},
   "source": [
    "### Training"
   ]
  },
  {
   "cell_type": "code",
<<<<<<< HEAD
   "execution_count": 5,
=======
   "execution_count": 8,
>>>>>>> c792bccf13b65e3014db1d50961efe169aab5363
   "metadata": {},
   "outputs": [
    {
     "ename": "RuntimeError",
     "evalue": "shape '[-1, 10000]' is invalid for input of size 400",
     "output_type": "error",
     "traceback": [
      "\u001b[1;31m---------------------------------------------------------------------------\u001b[0m",
      "\u001b[1;31mRuntimeError\u001b[0m                              Traceback (most recent call last)",
      "\u001b[1;32m~\\AppData\\Local\\Temp/ipykernel_30756/1560559744.py\u001b[0m in \u001b[0;36m<module>\u001b[1;34m\u001b[0m\n\u001b[0;32m      7\u001b[0m         \u001b[0moptimizer\u001b[0m\u001b[1;33m.\u001b[0m\u001b[0mzero_grad\u001b[0m\u001b[1;33m(\u001b[0m\u001b[1;33m)\u001b[0m\u001b[1;33m\u001b[0m\u001b[1;33m\u001b[0m\u001b[0m\n\u001b[0;32m      8\u001b[0m         \u001b[1;31m# Forward pass\u001b[0m\u001b[1;33m\u001b[0m\u001b[1;33m\u001b[0m\u001b[1;33m\u001b[0m\u001b[0m\n\u001b[1;32m----> 9\u001b[1;33m         \u001b[0moutput\u001b[0m \u001b[1;33m=\u001b[0m \u001b[0mmodel\u001b[0m\u001b[1;33m(\u001b[0m\u001b[0mdata\u001b[0m\u001b[1;33m)\u001b[0m\u001b[1;33m\u001b[0m\u001b[1;33m\u001b[0m\u001b[0m\n\u001b[0m\u001b[0;32m     10\u001b[0m \u001b[1;33m\u001b[0m\u001b[0m\n\u001b[0;32m     11\u001b[0m         \u001b[1;31m# Calculating loss\u001b[0m\u001b[1;33m\u001b[0m\u001b[1;33m\u001b[0m\u001b[1;33m\u001b[0m\u001b[0m\n",
      "\u001b[1;32m~\\anaconda3\\lib\\site-packages\\torch\\nn\\modules\\module.py\u001b[0m in \u001b[0;36m_call_impl\u001b[1;34m(self, *input, **kwargs)\u001b[0m\n\u001b[0;32m   1100\u001b[0m         if not (self._backward_hooks or self._forward_hooks or self._forward_pre_hooks or _global_backward_hooks\n\u001b[0;32m   1101\u001b[0m                 or _global_forward_hooks or _global_forward_pre_hooks):\n\u001b[1;32m-> 1102\u001b[1;33m             \u001b[1;32mreturn\u001b[0m \u001b[0mforward_call\u001b[0m\u001b[1;33m(\u001b[0m\u001b[1;33m*\u001b[0m\u001b[0minput\u001b[0m\u001b[1;33m,\u001b[0m \u001b[1;33m**\u001b[0m\u001b[0mkwargs\u001b[0m\u001b[1;33m)\u001b[0m\u001b[1;33m\u001b[0m\u001b[1;33m\u001b[0m\u001b[0m\n\u001b[0m\u001b[0;32m   1103\u001b[0m         \u001b[1;31m# Do not call functions when jit is used\u001b[0m\u001b[1;33m\u001b[0m\u001b[1;33m\u001b[0m\u001b[1;33m\u001b[0m\u001b[0m\n\u001b[0;32m   1104\u001b[0m         \u001b[0mfull_backward_hooks\u001b[0m\u001b[1;33m,\u001b[0m \u001b[0mnon_full_backward_hooks\u001b[0m \u001b[1;33m=\u001b[0m \u001b[1;33m[\u001b[0m\u001b[1;33m]\u001b[0m\u001b[1;33m,\u001b[0m \u001b[1;33m[\u001b[0m\u001b[1;33m]\u001b[0m\u001b[1;33m\u001b[0m\u001b[1;33m\u001b[0m\u001b[0m\n",
      "\u001b[1;32m~\\OneDrive - Queen's University\\Queens ENg Tristan Austin\\Third Year\\QMIND\\QMIND-VQC\\src\\model.py\u001b[0m in \u001b[0;36mforward\u001b[1;34m(self, x)\u001b[0m\n\u001b[0;32m    299\u001b[0m         \u001b[0mx\u001b[0m \u001b[1;33m=\u001b[0m \u001b[0mF\u001b[0m\u001b[1;33m.\u001b[0m\u001b[0mrelu\u001b[0m\u001b[1;33m(\u001b[0m\u001b[0mself\u001b[0m\u001b[1;33m.\u001b[0m\u001b[0mquanv\u001b[0m\u001b[1;33m(\u001b[0m\u001b[0mx\u001b[0m\u001b[1;33m)\u001b[0m\u001b[1;33m)\u001b[0m\u001b[1;33m\u001b[0m\u001b[1;33m\u001b[0m\u001b[0m\n\u001b[0;32m    300\u001b[0m         \u001b[0mx\u001b[0m \u001b[1;33m=\u001b[0m \u001b[0mF\u001b[0m\u001b[1;33m.\u001b[0m\u001b[0mrelu\u001b[0m\u001b[1;33m(\u001b[0m\u001b[0mself\u001b[0m\u001b[1;33m.\u001b[0m\u001b[0mconv\u001b[0m\u001b[1;33m(\u001b[0m\u001b[0mx\u001b[0m\u001b[1;33m)\u001b[0m\u001b[1;33m)\u001b[0m\u001b[1;33m\u001b[0m\u001b[1;33m\u001b[0m\u001b[0m\n\u001b[1;32m--> 301\u001b[1;33m         \u001b[0mx\u001b[0m \u001b[1;33m=\u001b[0m \u001b[0mx\u001b[0m\u001b[1;33m.\u001b[0m\u001b[0mview\u001b[0m\u001b[1;33m(\u001b[0m\u001b[1;33m-\u001b[0m\u001b[1;36m1\u001b[0m\u001b[1;33m,\u001b[0m \u001b[0mself\u001b[0m\u001b[1;33m.\u001b[0m\u001b[0mfc_size\u001b[0m\u001b[1;33m)\u001b[0m\u001b[1;33m\u001b[0m\u001b[1;33m\u001b[0m\u001b[0m\n\u001b[0m\u001b[0;32m    302\u001b[0m         \u001b[0mx\u001b[0m \u001b[1;33m=\u001b[0m \u001b[0mF\u001b[0m\u001b[1;33m.\u001b[0m\u001b[0mrelu\u001b[0m\u001b[1;33m(\u001b[0m\u001b[0mself\u001b[0m\u001b[1;33m.\u001b[0m\u001b[0mfc1\u001b[0m\u001b[1;33m(\u001b[0m\u001b[0mx\u001b[0m\u001b[1;33m)\u001b[0m\u001b[1;33m)\u001b[0m\u001b[1;33m\u001b[0m\u001b[1;33m\u001b[0m\u001b[0m\n\u001b[0;32m    303\u001b[0m         \u001b[0mx\u001b[0m \u001b[1;33m=\u001b[0m \u001b[0mF\u001b[0m\u001b[1;33m.\u001b[0m\u001b[0mrelu\u001b[0m\u001b[1;33m(\u001b[0m\u001b[0mself\u001b[0m\u001b[1;33m.\u001b[0m\u001b[0mfc2\u001b[0m\u001b[1;33m(\u001b[0m\u001b[0mx\u001b[0m\u001b[1;33m)\u001b[0m\u001b[1;33m)\u001b[0m\u001b[1;33m\u001b[0m\u001b[1;33m\u001b[0m\u001b[0m\n",
      "\u001b[1;31mRuntimeError\u001b[0m: shape '[-1, 10000]' is invalid for input of size 400"
     ]
    }
   ],
   "source": [
    "model = CustomQunvNet()\n",
    "optimizer = optim.Adam(model.parameters(), lr=learning_rate)\n",
    "loss_func = nn.CrossEntropyLoss()\n",
    "\n",
    "train_losses = []\n",
    "train_accs = []\n",
    "\n",
    "test_losses = []\n",
    "test_accs = []\n",
    "\n",
    "test_data, test_target = next(iter(test_loader))  # just access first batch"
   ]
  },
  {
   "cell_type": "code",
   "execution_count": null,
   "metadata": {},
   "outputs": [],
   "source": [
    "model.train()\n",
    "for epoch in range(n_epochs):\n",
    "    # keep track of accuracy and loss for a given epoch\n",
    "    epoch_train_acc = []\n",
    "    epoch_train_loss = []\n",
    "    # TODO: validation score\n",
    "    epoch_test_acc = []\n",
    "    epoch_test_loss = []\n",
    "    for batch_idx, (data, target) in enumerate(train_loader):\n",
    "        optimizer.zero_grad()\n",
<<<<<<< HEAD
    "\n",
    "        output = model(data)\n",
    "        pred = output.argmax(axis=1)\n",
    "\n",
=======
    "        # Forward pass\n",
    "        output = model(data)\n",
    "        \n",
    "        # Calculating loss\n",
>>>>>>> c792bccf13b65e3014db1d50961efe169aab5363
    "        loss = loss_func(output, target)\n",
    "        loss.backward()\n",
    "        optimizer.step()\n",
    "        \n",
    "        epoch_train_loss.append(loss.item())\n",
    "\n",
    "        acc = (pred == target).float().sum()/ len(target)\n",
    "        epoch_train_acc.append(acc.item())\n",
    "        \n",
    "        # testing acc\n",
    "        test_pred = model(test_data).argmax(axis=1)\n",
    "        test_acc = (test_pred == test_target).float().sum()/ len(test_target)\n",
    "        epoch_test_acc.append(test_acc.item())\n",
    "    \n",
    "    torch.save(model.state_dict(), f'model_dict_e{epoch}')\n",
    "    \n",
    "    train_losses.append(sum(epoch_train_loss) / len(epoch_train_loss))\n",
    "    train_accs.append(sum(epoch_train_acc) / len(epoch_train_acc))\n",
    "    test_accs.append(sum(epoch_test_acc) / len(epoch_test_acc))\n",
    "    \n",
    "    print('Training [{:.0f}%] \\t Loss: {:.4f} \\t Accuracy: {:.4} \\t Test Accuracy: {:.4}'.format(\n",
    "        100. * (epoch + 1) / n_epochs, train_losses[-1], train_accs[-1], test_accs[-1]))\n"
   ]
  },
  {
   "cell_type": "markdown",
   "metadata": {},
   "source": [
    "### Visualize Training"
   ]
  },
  {
   "cell_type": "code",
   "execution_count": 5,
   "metadata": {},
   "outputs": [
    {
     "data": {
      "text/plain": [
       "Text(0, 0.5, 'Cross Entropy Loss')"
      ]
     },
     "execution_count": 5,
     "metadata": {},
     "output_type": "execute_result"
    },
    {
     "data": {
      "image/png": "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\n",
      "text/plain": [
       "<Figure size 432x288 with 1 Axes>"
      ]
     },
     "metadata": {
      "needs_background": "light"
     },
     "output_type": "display_data"
    }
   ],
   "source": [
<<<<<<< HEAD
    "fig = plt.figure()\n",
    "plt.plot(range(len(train_losses)), train_losses, color='blue')\n",
    "# plt.scatter(test_counter, test_losses, color='red')\n",
    "# plt.legend(['Train Loss', 'Test Loss'], loc='upper right')\n",
    "plt.xlabel('number of training examples seen')\n",
    "plt.ylabel('negative log likelihood loss')\n",
    "plt.savefig(\"training.pdf\", dpi=800)\n",
    "plt.show()\n",
    "\n",
    "np.save('train_loss', train_losses)\n",
    "np.save('train_acc', train_accs)"
=======
    "## TODO: visualize results and training\n",
    "plt.plot(loss_list)\n",
    "plt.title('Hybrid NN Training Convergence')\n",
    "plt.xlabel('Training Iterations')\n",
    "plt.ylabel('Cross Entropy Loss')"
>>>>>>> c792bccf13b65e3014db1d50961efe169aab5363
   ]
  },
  {
   "cell_type": "code",
<<<<<<< HEAD
=======
   "execution_count": 6,
   "metadata": {},
   "outputs": [
    {
     "name": "stdout",
     "output_type": "stream",
     "text": [
      "[[0, 0], [1, 1], [0, 0], [1, 1], [1, 1], [0, 0], [0, 0], [1, 1], [0, 0], [1, 1], [0, 0], [1, 1], [0, 0], [0, 0], [1, 1], [0, 0], [0, 0], [0, 0], [0, 0], [0, 0], [1, 0], [0, 0], [1, 1], [0, 0], [0, 0], [0, 0], [0, 0], [1, 1], [0, 0], [0, 0], [0, 0], [0, 0], [1, 1], [1, 1], [0, 0], [0, 0], [1, 1], [0, 0], [0, 0], [1, 1], [0, 0], [1, 1], [1, 1], [0, 0], [1, 1], [1, 1], [0, 0], [1, 1], [1, 1], [1, 1], [1, 1], [0, 0], [0, 0], [1, 1], [0, 0], [0, 0], [1, 1], [1, 1], [1, 1], [1, 1], [0, 0], [1, 1], [0, 0], [1, 1], [1, 1], [0, 0], [1, 1], [1, 1], [0, 0], [1, 1], [0, 0], [0, 0], [0, 0], [1, 1], [1, 1], [1, 1], [0, 0], [1, 1], [1, 1], [1, 1], [1, 0], [1, 1], [1, 1], [0, 0], [0, 0], [0, 0], [1, 1], [1, 1], [1, 1], [1, 1], [1, 1], [1, 1], [0, 0], [0, 0], [1, 1], [1, 1], [1, 1], [0, 0], [0, 0], [1, 1]]\n",
      "0.98\n"
     ]
    }
   ],
   "source": [
    "preds = []\n",
    "with torch.no_grad():\n",
    "    for batch_dix, (val, target) in enumerate(test_loader):\n",
    "        y_hat = model.forward(val)\n",
    "        preds.append([y_hat.argmax().item(), target.item()])\n",
    "print(preds)\n",
    "print(np.sum([1 if i[0] == i[1] else 0 for i in preds]) / len(preds))"
   ]
  },
  {
   "cell_type": "code",
>>>>>>> c792bccf13b65e3014db1d50961efe169aab5363
   "execution_count": null,
   "metadata": {},
   "outputs": [],
   "source": []
  }
 ],
 "metadata": {
  "kernelspec": {
<<<<<<< HEAD
   "display_name": "Python 3",
=======
   "display_name": "Python 3 (ipykernel)",
>>>>>>> c792bccf13b65e3014db1d50961efe169aab5363
   "language": "python",
   "name": "python3"
  },
  "language_info": {
   "codemirror_mode": {
    "name": "ipython",
    "version": 3
   },
   "file_extension": ".py",
   "mimetype": "text/x-python",
   "name": "python",
   "nbconvert_exporter": "python",
   "pygments_lexer": "ipython3",
<<<<<<< HEAD
   "version": "3.8.5"
=======
   "version": "3.8.12"
>>>>>>> c792bccf13b65e3014db1d50961efe169aab5363
  }
 },
 "nbformat": 4,
 "nbformat_minor": 2
}
