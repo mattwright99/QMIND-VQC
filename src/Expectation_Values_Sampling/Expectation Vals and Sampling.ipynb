{
 "cells": [
  {
   "cell_type": "code",
   "execution_count": 1,
   "id": "61c35786",
   "metadata": {},
   "outputs": [],
   "source": [
    "from qiskit.opflow import I, X, Y, Z, StateFn, CircuitSampler\n",
    "from qiskit.circuit import QuantumCircuit\n",
    "from qiskit.opflow import Z, X\n",
    "from qiskit.opflow import CircuitSampler, PauliExpectation, ExpectationFactory,AerPauliExpectation,MatrixExpectation\n",
    "import time\n",
    "from qiskit.circuit import Parameter, ParameterVector\n",
    "import numpy as np\n",
    "from matplotlib import pyplot as plt"
   ]
  },
  {
   "cell_type": "code",
   "execution_count": 2,
   "id": "a9711cbf",
   "metadata": {},
   "outputs": [],
   "source": [
    "from qiskit import Aer\n",
    "from qiskit.utils import QuantumInstance\n",
    "\n",
    "backend = Aer.get_backend('qasm_simulator')\n",
    "q_instance = QuantumInstance(backend, shots = 8192, seed_simulator = 2718, seed_transpiler = 2718)"
   ]
  },
  {
   "cell_type": "code",
   "execution_count": 3,
   "id": "9933f8e7",
   "metadata": {},
   "outputs": [
    {
     "data": {
      "text/plain": [
       "<qiskit.circuit.instructionset.InstructionSet at 0x2a06312eee0>"
      ]
     },
     "execution_count": 3,
     "metadata": {},
     "output_type": "execute_result"
    }
   ],
   "source": [
    "# Define quantum circuit\n",
    "H = X ^ X\n",
    "\n",
    "U = QuantumCircuit(2)\n",
    "U.h(0)\n",
    "U.cx(0, 1)"
   ]
  },
  {
   "cell_type": "markdown",
   "id": "3f798b70",
   "metadata": {},
   "source": [
    "Takeaways:\n",
    "- For a simple hamiltonian, .eval is faster due to the overhead of the conversions for PauliExpectation and CircuitSampler. - For a more complex hamiltonian, the use of PauliExpectation and CircuitSampler speeds up the process.\n",
    "- ExpectationFactory returns the most efficient Expectation converter choice (\"one that best suits the operator and    backend\") - we can use this to cater to our specific circuit!"
   ]
  },
  {
   "cell_type": "code",
   "execution_count": 19,
   "id": "bc464d6a",
   "metadata": {},
   "outputs": [
    {
     "name": "stdout",
     "output_type": "stream",
     "text": [
      "(0.9999999999999998+0j)\n",
      "Time elapsed:  0.005015134811401367\n"
     ]
    }
   ],
   "source": [
    "# Compute expectation value using .eval()\n",
    "expectation = StateFn(H, is_measurement=True) @ StateFn(U)\n",
    "# Time .eval execution\n",
    "start = time.time()\n",
    "matmult_result = expectation.eval()\n",
    "end = time.time()\n",
    "print(matmult_result)\n",
    "print(\"Time elapsed: \", end - start)"
   ]
  },
  {
   "cell_type": "code",
   "execution_count": 5,
   "id": "0fb54b69",
   "metadata": {},
   "outputs": [
    {
     "name": "stdout",
     "output_type": "stream",
     "text": [
      "(1+0j)\n",
      "Time elapsed:  0.07185482978820801\n"
     ]
    }
   ],
   "source": [
    "# Compute expectation value using circuit sampler and Pauli expectation\n",
    "sampler = CircuitSampler(q_instance)\n",
    "\n",
    "in_pauli_basis = PauliExpectation().convert(expectation)\n",
    "# Time \n",
    "start = time.time()\n",
    "shots_result = sampler.convert(in_pauli_basis).eval()\n",
    "end = time.time()\n",
    "print(shots_result)\n",
    "print(\"Time elapsed: \", end - start)"
   ]
  },
  {
   "cell_type": "markdown",
   "id": "3918df66",
   "metadata": {},
   "source": [
    "Expectation Testing in isolation\n",
    "- Matrix and Pauli similar\n",
    "- Not totally sure how AerPauliExpectation works"
   ]
  },
  {
   "cell_type": "code",
   "execution_count": 18,
   "id": "74be100a",
   "metadata": {},
   "outputs": [
    {
     "name": "stdout",
     "output_type": "stream",
     "text": [
      "(0.9999999999999997+0j)\n",
      "Time elapsed:  0.007700920104980469\n"
     ]
    }
   ],
   "source": [
    "# Compute expectation value using Pauli expectation & no sampler\n",
    "# Note that for Pauli expectation, we need to use .eval to evaluate vs \n",
    "# for aer pauli expectation we just use .convert\n",
    "\n",
    "in_pauli_basis = PauliExpectation().convert(expectation)\n",
    "# Time\n",
    "start = time.time()\n",
    "shots_result = (in_pauli_basis).eval()\n",
    "end = time.time()\n",
    "print(shots_result)\n",
    "print(\"Time elapsed: \", end - start)"
   ]
  },
  {
   "cell_type": "code",
   "execution_count": 7,
   "id": "1028669e",
   "metadata": {},
   "outputs": [
    {
     "name": "stdout",
     "output_type": "stream",
     "text": [
      "(0.9999999999999998+0j)\n",
      "Time elapsed:  0.005978584289550781\n"
     ]
    }
   ],
   "source": [
    "# Compute expectation value using matrix expectation & no sampler\n",
    "# Note that for Pauli expectation, we need to use .eval to evaluate vs \n",
    "# for aer pauli expectation we just use .convert\n",
    "\n",
    "matrix_ex = MatrixExpectation().convert(expectation)\n",
    "# Time\n",
    "start = time.time()\n",
    "shots_result = (matrix_ex).eval()\n",
    "end = time.time()\n",
    "print(shots_result)\n",
    "print(\"Time elapsed: \", end - start)"
   ]
  },
  {
   "cell_type": "code",
   "execution_count": 8,
   "id": "0e995cfc",
   "metadata": {},
   "outputs": [
    {
     "name": "stdout",
     "output_type": "stream",
     "text": [
      "<qiskit.opflow.expectations.aer_pauli_expectation.AerPauliExpectation object at 0x000002A0655531F0>\n",
      "ComposedOp([\n",
      "  CircuitMeasurement(\n",
      "        ░ \n",
      "  q_0: ─░─\n",
      "        ░ \n",
      "  q_1: ─░─\n",
      "        ░ \n",
      "  ),\n",
      "  CircuitStateFn(\n",
      "       ┌───┐     \n",
      "  q_0: ┤ H ├──■──\n",
      "       └───┘┌─┴─┐\n",
      "  q_1: ─────┤ X ├\n",
      "            └───┘\n",
      "  )\n",
      "])\n",
      "Time elapsed:  0.0011432170867919922\n"
     ]
    }
   ],
   "source": [
    "# Compute expectation value using recommendation of expectation factory & no sampler\n",
    "expectation_factory = ExpectationFactory().build(H)\n",
    "print(expectation_factory)\n",
    "\n",
    "# Time\n",
    "start = time.time()\n",
    "in_aer_pauli_basis = AerPauliExpectation().convert(expectation)\n",
    "#shots_result = (in_aer_pauli_basis).eval()\n",
    "end = time.time()\n",
    "print(in_aer_pauli_basis)\n",
    "print(\"Time elapsed: \", end - start)"
   ]
  },
  {
   "cell_type": "markdown",
   "id": "6729822d",
   "metadata": {},
   "source": [
    "Now let's try with a slightly more complicated Hamiltonian!\n",
    "- Here, matrix expectation is fastest followed by .eval, and pauli expectation + circuit sampler is significantly slower"
   ]
  },
  {
   "cell_type": "code",
   "execution_count": 9,
   "id": "8b021976",
   "metadata": {},
   "outputs": [
    {
     "data": {
      "text/plain": [
       "<qiskit.circuit.instructionset.InstructionSet at 0x2a065553ca0>"
      ]
     },
     "execution_count": 9,
     "metadata": {},
     "output_type": "execute_result"
    }
   ],
   "source": [
    "hamiltonian = (Z ^ X) +  (X ^ Z)\n",
    "U2 = QuantumCircuit(4)\n",
    "U2.h(0)\n",
    "U2.cx(0, 1)\n",
    "U2.cx(1,2)\n",
    "U2.cx(1,3)\n",
    "U2.rz(2*np.pi,2)"
   ]
  },
  {
   "cell_type": "code",
   "execution_count": 20,
   "id": "11d5f309",
   "metadata": {},
   "outputs": [
    {
     "name": "stdout",
     "output_type": "stream",
     "text": [
      "ComposedOp([\n",
      "  OperatorMeasurement(1.0 * ZXII\n",
      "  + 1.0 * XZII),\n",
      "  CircuitStateFn(\n",
      "       ┌───┐                         \n",
      "  q_0: ┤ H ├──■──────────────────────\n",
      "       └───┘┌─┴─┐                    \n",
      "  q_1: ─────┤ X ├──■────■────────────\n",
      "            └───┘┌─┴─┐  │  ┌────────┐\n",
      "  q_2: ──────────┤ X ├──┼──┤ Rz(2π) ├\n",
      "                 └───┘┌─┴─┐└────────┘\n",
      "  q_3: ───────────────┤ X ├──────────\n",
      "                      └───┘          \n",
      "  )\n",
      "])\n"
     ]
    }
   ],
   "source": [
    "h2_measurement = StateFn(hamiltonian, is_measurement=True) @ StateFn(U2)\n",
    "print(h2_measurement)"
   ]
  },
  {
   "cell_type": "code",
   "execution_count": 22,
   "id": "ca00ce84",
   "metadata": {},
   "outputs": [
    {
     "name": "stdout",
     "output_type": "stream",
     "text": [
      "(0.012207031250000028+0j)\n",
      "Time elapsed:  0.26180481910705566\n"
     ]
    }
   ],
   "source": [
    "# Using Pauli Expectation and CircuitSampler\n",
    "\n",
    "sampler = CircuitSampler(q_instance)\n",
    "\n",
    "in_pauli_basis = PauliExpectation().convert(h2_measurement)\n",
    "# Time\n",
    "start = time.time()\n",
    "shots_result = sampler.convert(in_pauli_basis).eval()\n",
    "end = time.time()\n",
    "print(shots_result)\n",
    "print(\"Time elapsed: \", end - start)"
   ]
  },
  {
   "cell_type": "code",
   "execution_count": 23,
   "id": "4ff4c7bb",
   "metadata": {},
   "outputs": [
    {
     "name": "stdout",
     "output_type": "stream",
     "text": [
      "0j\n",
      "Time elapsed:  0.007428169250488281\n"
     ]
    }
   ],
   "source": [
    "# Using eval\n",
    "start = time.time()\n",
    "matmult_result = h2_measurement.eval()\n",
    "end = time.time()\n",
    "print(matmult_result)\n",
    "print(\"Time elapsed: \", end - start)"
   ]
  },
  {
   "cell_type": "code",
   "execution_count": 24,
   "id": "2749de60",
   "metadata": {},
   "outputs": [
    {
     "name": "stdout",
     "output_type": "stream",
     "text": [
      "0j\n",
      "Time elapsed:  0.040735483169555664\n"
     ]
    }
   ],
   "source": [
    "# Using Pauli Expectation and no sampler\n",
    "start = time.time()\n",
    "shots_result = PauliExpectation().convert(h2_measurement).eval()\n",
    "end = time.time()\n",
    "print(shots_result)\n",
    "print(\"Time elapsed: \", end - start)"
   ]
  },
  {
   "cell_type": "code",
   "execution_count": 25,
   "id": "2571b542",
   "metadata": {},
   "outputs": [
    {
     "name": "stdout",
     "output_type": "stream",
     "text": [
      "0j\n",
      "Time elapsed:  0.006113529205322266\n"
     ]
    }
   ],
   "source": [
    "# Using matrix expectation and no sampler\n",
    "matrix_ex = MatrixExpectation().convert(h2_measurement)\n",
    "# Time\n",
    "start = time.time()\n",
    "shots_result = (matrix_ex).eval()\n",
    "end = time.time()\n",
    "print(shots_result)\n",
    "print(\"Time elapsed: \", end - start)"
   ]
  },
  {
   "cell_type": "code",
   "execution_count": 26,
   "id": "cd5d9991",
   "metadata": {},
   "outputs": [
    {
     "name": "stdout",
     "output_type": "stream",
     "text": [
      "<qiskit.opflow.expectations.aer_pauli_expectation.AerPauliExpectation object at 0x000002A065769940>\n",
      "ComposedOp([\n",
      "  CircuitMeasurement(\n",
      "        ░ \n",
      "  q_0: ─░─\n",
      "        ░ \n",
      "  q_1: ─░─\n",
      "        ░ \n",
      "  q_2: ─░─\n",
      "        ░ \n",
      "  q_3: ─░─\n",
      "        ░ \n",
      "  ),\n",
      "  CircuitStateFn(\n",
      "       ┌───┐                         \n",
      "  q_0: ┤ H ├──■──────────────────────\n",
      "       └───┘┌─┴─┐                    \n",
      "  q_1: ─────┤ X ├──■────■────────────\n",
      "            └───┘┌─┴─┐  │  ┌────────┐\n",
      "  q_2: ──────────┤ X ├──┼──┤ Rz(2π) ├\n",
      "                 └───┘┌─┴─┐└────────┘\n",
      "  q_3: ───────────────┤ X ├──────────\n",
      "                      └───┘          \n",
      "  )\n",
      "])\n",
      "Time elapsed:  0.0010809898376464844\n"
     ]
    }
   ],
   "source": [
    "# Using expectation factory recommendation\n",
    "expectation_factory = ExpectationFactory().build(hamiltonian)\n",
    "print(expectation_factory)\n",
    "\n",
    "# Time\n",
    "start = time.time()\n",
    "in_aer_pauli_basis = AerPauliExpectation().convert(h2_measurement)\n",
    "end = time.time()\n",
    "print(in_aer_pauli_basis)\n",
    "print(\"Time elapsed: \", end - start)"
   ]
  }
 ],
 "metadata": {
  "kernelspec": {
   "display_name": "Python 3",
   "language": "python",
   "name": "python3"
  },
  "language_info": {
   "codemirror_mode": {
    "name": "ipython",
    "version": 3
   },
   "file_extension": ".py",
   "mimetype": "text/x-python",
   "name": "python",
   "nbconvert_exporter": "python",
   "pygments_lexer": "ipython3",
   "version": "3.8.8"
  }
 },
 "nbformat": 4,
 "nbformat_minor": 5
}
