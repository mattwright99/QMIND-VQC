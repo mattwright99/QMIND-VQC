{
 "cells": [
  {
   "cell_type": "code",
   "execution_count": 1,
   "id": "a8fff08d",
   "metadata": {},
   "outputs": [
    {
     "name": "stderr",
     "output_type": "stream",
     "text": [
      "C:\\Users\\julia\\anaconda3\\lib\\site-packages\\qiskit\\aqua\\__init__.py:86: DeprecationWarning: The package qiskit.aqua is deprecated. It was moved/refactored to qiskit-terra For more information see <https://github.com/Qiskit/qiskit-aqua/blob/main/README.md#migration-guide>\n",
      "  warn_package('aqua', 'qiskit-terra')\n"
     ]
    }
   ],
   "source": [
    "import qiskit\n",
    "from qiskit.circuit.library import TwoLocal\n",
    "from qiskit.circuit import Parameter, ParameterVector\n",
    "from matplotlib import pyplot as plt\n",
    "from qiskit import QuantumCircuit, Aer\n",
    "from qiskit.quantum_info import Statevector\n",
    "from qiskit import transpile, assemble\n",
    "from qiskit.visualization import *\n",
    "from qiskit.visualization import plot_bloch_multivector\n",
    "from qiskit.aqua.operators import Z, Y, X\n",
    "from qiskit.aqua.operators import StateFn\n",
    "import numpy as np"
   ]
  },
  {
   "cell_type": "markdown",
   "id": "e23ce436",
   "metadata": {},
   "source": [
    "Original forward function. We define the circuit, apply H gates to all qubits, apply Ry gates for the 'random quantum circuit', then measure. The output is the probability of each qubit being in the 1 state."
   ]
  },
  {
   "cell_type": "code",
   "execution_count": 5,
   "id": "1578d3a1",
   "metadata": {},
   "outputs": [],
   "source": [
    "# Define rotation angles\n",
    "params = np.array([0,np.pi/2,np.pi,np.pi/4])\n",
    "\n",
    "# Define Hamiltonina\n",
    "H = Z ^ Z ^ Z ^ Z\n",
    "\n",
    "def forward(params):\n",
    "    \n",
    "    # Define 4 qubit quantum circuit\n",
    "    qc = QuantumCircuit(4)\n",
    "    \n",
    "    # Apply H gates\n",
    "    qc.h(range(4))\n",
    "    \n",
    "    # Apply random quantum circuit\n",
    "    # Use ry rotations w/ rotation angles specified by components of the input vector\n",
    "    for i in range(len(params)):\n",
    "        qc.ry(params[i],i)\n",
    "    \n",
    "    qobj = assemble(qc, shots=8192)\n",
    "    \n",
    "    # Take measurement\n",
    "    psi = StateFn(H, is_measurement=True) @ StateFn(qc)\n",
    "    expectation = psi.eval()\n",
    "    qc.measure_all()\n",
    "    \n",
    "    # Draw\n",
    "    print(qc.draw())\n",
    "    \n",
    "    # Run circuit on Aer backend\n",
    "    backend = Aer.get_backend('aer_simulator')\n",
    "    qobj = transpile(qc, backend)\n",
    "    job = backend.run(qobj)\n",
    "    result = job.result()\n",
    "    counts = result.get_counts()\n",
    "    \n",
    "    # Convert counts to probabilities in 2d array\n",
    "    totalCount = 0\n",
    "    exps = np.zeros(4)\n",
    "    \n",
    "    # Determine total count to convert to probabilities\n",
    "    for state, prob in counts.items():\n",
    "        totalCount += prob\n",
    "      \n",
    "    # Sum up probabilities for each qubit to get expectation value\n",
    "    for state, prob in counts.items():\n",
    "        prob /= totalCount\n",
    "        \n",
    "        # iterate over each qubit\n",
    "        i = 0\n",
    "        for c in state:\n",
    "            qubit = float(c)\n",
    "            exps[i] = exps[i] + qubit*prob\n",
    "            i = i + 1\n",
    "\n",
    "    #print(counts)\n",
    "    print(exps)"
   ]
  },
  {
   "cell_type": "code",
   "execution_count": 6,
   "id": "c6ab60d8",
   "metadata": {},
   "outputs": [
    {
     "name": "stdout",
     "output_type": "stream",
     "text": [
      "        ┌───┐ ┌───────┐  ░ ┌─┐         \n",
      "   q_0: ┤ H ├─┤ Ry(0) ├──░─┤M├─────────\n",
      "        ├───┤┌┴───────┴┐ ░ └╥┘┌─┐      \n",
      "   q_1: ┤ H ├┤ Ry(π/2) ├─░──╫─┤M├──────\n",
      "        ├───┤└┬───────┬┘ ░  ║ └╥┘┌─┐   \n",
      "   q_2: ┤ H ├─┤ Ry(π) ├──░──╫──╫─┤M├───\n",
      "        ├───┤┌┴───────┴┐ ░  ║  ║ └╥┘┌─┐\n",
      "   q_3: ┤ H ├┤ Ry(π/4) ├─░──╫──╫──╫─┤M├\n",
      "        └───┘└─────────┘ ░  ║  ║  ║ └╥┘\n",
      "meas: 4/════════════════════╩══╩══╩══╩═\n",
      "                            0  1  2  3 \n",
      "[0.86816406 0.48925781 1.         0.50195312]\n"
     ]
    }
   ],
   "source": [
    "forward(params)"
   ]
  },
  {
   "cell_type": "code",
   "execution_count": 4,
   "id": "43988b21",
   "metadata": {},
   "outputs": [],
   "source": [
    "# Desired format\n",
    "def get_quanv_fn(kernel_size=2, backend=None, shots=1024, threshold=127, ansatz=''):  # note: threshold and ansatz are just suggestions\n",
    "    # Instantiate quantum circuit\n",
    "    # create param vector \n",
    "    # create input param vector\n",
    "    # apply appropriate gates\n",
    "    \n",
    "    \n",
    "    def execute_qc(input_data, params):\n",
    "        # bind data to circuit\n",
    "        # execute\n",
    "        # extract ouput expectations\n",
    "        \n",
    "        return results\n",
    "    \n",
    "    return execute_qc"
   ]
  }
 ],
 "metadata": {
  "kernelspec": {
   "display_name": "Python 3 (ipykernel)",
   "language": "python",
   "name": "python3"
  },
  "language_info": {
   "codemirror_mode": {
    "name": "ipython",
    "version": 3
   },
   "file_extension": ".py",
   "mimetype": "text/x-python",
   "name": "python",
   "nbconvert_exporter": "python",
   "pygments_lexer": "ipython3",
   "version": "3.8.8"
  }
 },
 "nbformat": 4,
 "nbformat_minor": 5
}
